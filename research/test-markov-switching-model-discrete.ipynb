{
 "cells": [
  {
   "cell_type": "markdown",
   "metadata": {},
   "source": [
    "## Discrete-Discrete HMM from scratch\n",
    "\n",
    "For references check:\n",
    "- Hidden Markov models and dynamical systems (Andrew M. Fraser)"
   ]
  },
  {
   "cell_type": "code",
   "execution_count": 1,
   "metadata": {},
   "outputs": [],
   "source": [
    "import numpy as np\n",
    "import matplotlib.pyplot as plt\n",
    "from copy import deepcopy as dc"
   ]
  },
  {
   "cell_type": "markdown",
   "metadata": {},
   "source": [
    "## Test data preparation"
   ]
  },
  {
   "cell_type": "markdown",
   "metadata": {},
   "source": [
    "### Simulated problem\n",
    "Problem parameters\n",
    "- n_states = 2\n",
    "- p_0 = {0: 1/4, 1: 1/2, 2: 1/4}\n",
    "- p_1 = {-1: 1/2, 1: 1/5, 2: 3/10}\n",
    "- p00 = 0.8\n",
    "- p11 = 0.9"
   ]
  },
  {
   "cell_type": "code",
   "execution_count": 11,
   "metadata": {},
   "outputs": [],
   "source": [
    "p00=0.8\n",
    "p11=0.9\n",
    "pss = [{0:p00, 1:1-p00},{0:1-p11, 1:p11}]\n",
    "pys = [{-1: 0.1, 0: 0.25, 1: 0.4, 2: 0.25},{-1: 0.5, 0: 0.1, 1: 0.3, 2: 0.1}]\n",
    "# pys = [{-1: .997, 0: 0.001, 1: 0.001, 2: 0.001},{-1: 0.001, 0: 0.001, 1: 0.001, 2: .997}]\n",
    "\n",
    "N = 100"
   ]
  },
  {
   "cell_type": "code",
   "execution_count": 12,
   "metadata": {},
   "outputs": [],
   "source": [
    "x = np.zeros(N)\n",
    "s_true = np.zeros(N)\n",
    "s_true[0] = 0\n",
    "\n",
    "def random_draw(p):\n",
    "    cumprob=0\n",
    "    r = np.random.rand()\n",
    "    for k in p.keys():\n",
    "        cumprob += p[k]\n",
    "        if r<cumprob:\n",
    "            return k\n",
    "            \n",
    "x[0] = random_draw(pys[0])\n",
    "\n",
    "for i in range(1,N-1):\n",
    "    r = np.random.rand()\n",
    "    if s_true[i] == 0:\n",
    "        x[i] = random_draw(pys[0])\n",
    "        if r > p00:\n",
    "            s_true[i+1] = 1\n",
    "        else:\n",
    "            s_true[i+1] = s_true[i]\n",
    "    else:\n",
    "        x[i] = random_draw(pys[1])\n",
    "        if r > p11:\n",
    "            s_true[i+1] = 0\n",
    "        else:\n",
    "            s_true[i+1] = 1\n",
    "if s_true[-1] == 0:\n",
    "    x[-1] = random_draw(pys[0])\n",
    "else:\n",
    "    x[-1] = random_draw(pys[1])\n",
    "\n",
    "y = x.astype(int)"
   ]
  },
  {
   "cell_type": "code",
   "execution_count": 13,
   "metadata": {},
   "outputs": [
    {
     "data": {
      "text/plain": [
       "<bound method Figure.show of <Figure size 432x288 with 2 Axes>>"
      ]
     },
     "execution_count": 13,
     "metadata": {},
     "output_type": "execute_result"
    },
    {
     "data": {
      "image/png": "[encoded data removed]",
      "text/plain": [
       "<Figure size 432x288 with 2 Axes>"
      ]
     },
     "metadata": {
      "needs_background": "light"
     },
     "output_type": "display_data"
    }
   ],
   "source": [
    "fig,ax = plt.subplots()\n",
    "ax.scatter(np.arange(N),y)\n",
    "ax2 = ax.twinx()\n",
    "ax2.plot(np.arange(N),s_true)\n",
    "fig.show"
   ]
  },
  {
   "cell_type": "markdown",
   "metadata": {},
   "source": [
    "## Algorithms"
   ]
  },
  {
   "cell_type": "markdown",
   "metadata": {},
   "source": [
    "### Forward Algorithm"
   ]
  },
  {
   "cell_type": "code",
   "execution_count": 5,
   "metadata": {},
   "outputs": [],
   "source": [
    "# Parameters\n",
    "ss = np.array([0,1]).astype(int)\n",
    "ps0 = [0.5,0.5]\n",
    "pys = [{-1: 0.1, 0: 0.25, 1: 0.4, 2: 0.25},{-1: 0.5, 0: 0.1, 1: 0.3, 2: 0.1}]\n",
    "p00=0.8\n",
    "p11=0.9\n",
    "pss = [{0:p00, 1:1-p00},{0:1-p11, 1:p11}]\n",
    "y = x.astype(int)\n",
    "N = 100"
   ]
  },
  {
   "cell_type": "code",
   "execution_count": 88,
   "metadata": {},
   "outputs": [
    {
     "data": {
      "text/plain": [
       "array([0.        , 0.18571429,        nan,        nan,        nan,\n",
       "              nan,        nan,        nan,        nan,        nan,\n",
       "              nan,        nan,        nan,        nan,        nan,\n",
       "              nan,        nan,        nan,        nan,        nan,\n",
       "              nan,        nan,        nan,        nan,        nan,\n",
       "              nan,        nan,        nan,        nan,        nan,\n",
       "              nan,        nan,        nan,        nan,        nan,\n",
       "              nan,        nan,        nan,        nan,        nan,\n",
       "              nan,        nan,        nan,        nan,        nan,\n",
       "              nan,        nan,        nan,        nan,        nan,\n",
       "              nan,        nan,        nan,        nan,        nan,\n",
       "              nan,        nan,        nan,        nan,        nan,\n",
       "              nan,        nan,        nan,        nan,        nan,\n",
       "              nan,        nan,        nan,        nan,        nan,\n",
       "              nan,        nan,        nan,        nan,        nan,\n",
       "              nan,        nan,        nan,        nan,        nan,\n",
       "              nan,        nan,        nan,        nan,        nan,\n",
       "              nan,        nan,        nan,        nan,        nan,\n",
       "              nan,        nan,        nan,        nan,        nan,\n",
       "              nan,        nan,        nan,        nan,        nan])"
      ]
     },
     "execution_count": 88,
     "metadata": {},
     "output_type": "execute_result"
    }
   ],
   "source": [
    "alfas = np.full([2,N],np.nan)\n",
    "gammas = np.full(N,np.nan)\n",
    "t = 0\n",
    "for state in ss:\n",
    "    alfas[state,t] = ps0[state]*pys[state][y[t]]/sum(ps0[s]*pys[s][y[t]] for s in ss)\n",
    "gammas[t] = 0\n",
    "\n",
    "t += 1\n",
    "aux = np.full(2,np.nan)\n",
    "for state in ss:\n",
    "    aux[state] = pys[state][y[t]]*alfas[state,t-1]\n",
    "gammas[t] = sum(aux[state] for state in ss)\n",
    "for state in ss:\n",
    "    alfas[state,t] = aux[state]/gammas[t]\n",
    "gammas"
   ]
  },
  {
   "cell_type": "code",
   "execution_count": 94,
   "metadata": {},
   "outputs": [
    {
     "data": {
      "text/plain": [
       "array([0.        , 0.18571429, 0.19315385, 0.19881004, 0.20146131,\n",
       "       0.36098936, 0.35665777, 0.18887203,        nan,        nan,\n",
       "              nan,        nan,        nan,        nan,        nan,\n",
       "              nan,        nan,        nan,        nan,        nan,\n",
       "              nan,        nan,        nan,        nan,        nan,\n",
       "              nan,        nan,        nan,        nan,        nan,\n",
       "              nan,        nan,        nan,        nan,        nan,\n",
       "              nan,        nan,        nan,        nan,        nan,\n",
       "              nan,        nan,        nan,        nan,        nan,\n",
       "              nan,        nan,        nan,        nan,        nan,\n",
       "              nan,        nan,        nan,        nan,        nan,\n",
       "              nan,        nan,        nan,        nan,        nan,\n",
       "              nan,        nan,        nan,        nan,        nan,\n",
       "              nan,        nan,        nan,        nan,        nan,\n",
       "              nan,        nan,        nan,        nan,        nan,\n",
       "              nan,        nan,        nan,        nan,        nan,\n",
       "              nan,        nan,        nan,        nan,        nan,\n",
       "              nan,        nan,        nan,        nan,        nan,\n",
       "              nan,        nan,        nan,        nan,        nan,\n",
       "              nan,        nan,        nan,        nan,        nan])"
      ]
     },
     "execution_count": 94,
     "metadata": {},
     "output_type": "execute_result"
    }
   ],
   "source": [
    "t += 1\n",
    "for state in ss:\n",
    "    alfas[state,t-1] = sum(pss[s][state]*alfas[s][t-1] for s in ss)\n",
    "for state in ss:\n",
    "    aux[state] = pys[state][y[t]]*alfas[state,t-1]\n",
    "gammas[t] = sum(aux[state] for state in ss)\n",
    "for state in ss:\n",
    "    alfas[state,t] = aux[state]/gammas[t]\n",
    "gammas"
   ]
  },
  {
   "cell_type": "code",
   "execution_count": 101,
   "metadata": {},
   "outputs": [],
   "source": [
    "def FA(y,ps0,pys,pss):\n",
    "    \"\"\"\n",
    "    y: np.array(observations).astype(int)\n",
    "    ps0: np.array(initial state probabilities)\n",
    "    pys: vector of dictionaries containing the probability for each y given s. E.g. [{3:0.4, 4:0.6},{3:0.9, 4:0.1}]. Both dictionaries must contain the same keys\n",
    "    pss: vector of dictionaries containing the state transition probabilities\n",
    "    \"\"\"\n",
    "    N = y.shape[0]\n",
    "    n_states = ps0.shape[0]\n",
    "    ss = np.arange(n_states)\n",
    "\n",
    "    alfas = np.full([n_states,N],np.nan)\n",
    "    gammas = np.full(N,np.nan)\n",
    "    t = 0\n",
    "    for state in ss:\n",
    "        alfas[state,t] = ps0[state]*pys[state][y[t]]/sum(ps0[s]*pys[s][y[t]] for s in ss)\n",
    "    gammas[t] = 1\n",
    "\n",
    "    t += 1\n",
    "    aux = np.full(2,np.nan)\n",
    "    for state in ss:\n",
    "        aux[state] = pys[state][y[t]]*alfas[state,t-1]\n",
    "    gammas[t] = sum(aux[state] for state in ss)\n",
    "    for state in ss:\n",
    "        alfas[state,t] = aux[state]/gammas[t]\n",
    "\n",
    "\n",
    "    for t in range(2,N):\n",
    "        for state in ss:\n",
    "            alfas[state,t-1] = sum(pss[s][state]*alfas[s][t-1] for s in ss)\n",
    "            aux[state] = pys[state][y[t]]*alfas[state,t-1]\n",
    "        gammas[t] = sum(aux[state] for state in ss)\n",
    "        for state in ss:\n",
    "            alfas[state,t] = aux[state]/gammas[t]\n",
    "    \n",
    "    p = np.exp(np.sum(np.log(gammas))) # summing logs instead of multiplying probabilities to avoid underflow. Probability of y(0) ignored\n",
    "    return p,alfas,gammas"
   ]
  },
  {
   "cell_type": "code",
   "execution_count": 15,
   "metadata": {},
   "outputs": [
    {
     "name": "stdout",
     "output_type": "stream",
     "text": [
      "3.405362612103321e-55 3.405362612103329e-55\n"
     ]
    }
   ],
   "source": [
    "def FA2(y,ps0,pys,pss):\n",
    "    \"\"\"\n",
    "    y: np.array(observations).astype(int)\n",
    "    ps0: np.array(initial state probabilities)\n",
    "    pys: vector of dictionaries containing the probability for each y given s. E.g. [{3:0.4, 4:0.6},{3:0.9, 4:0.1}]. Both dictionaries must contain the same keys\n",
    "    pss: vector of dictionaries containing the state transition probabilities\n",
    "    \"\"\"\n",
    "    N = y.shape[0]\n",
    "    n_states = len(ps0)\n",
    "    ss = np.arange(n_states)\n",
    "\n",
    "    alfas = np.full([n_states,N],np.nan)\n",
    "    gammas = np.full(N,np.nan)\n",
    "    \n",
    "    t = 0\n",
    "    for state in ss:\n",
    "        alfas[state,t] = ps0[state]*pys[state][y[t]]/sum(ps0[s]*pys[s][y[t]] for s in ss)\n",
    "    gammas[t] = 1\n",
    "    aux = dc(alfas)\n",
    "    aux2 = np.full([n_states,N],np.nan)\n",
    "\n",
    "    for t in range(1,N):\n",
    "        for state in ss:\n",
    "            aux[state,t-1] = sum(pss[s][state]*alfas[s,t-1] for s in ss)\n",
    "            aux2[state,t] = pys[state][y[t]]*aux[state,t-1]\n",
    "        gammas[t] = sum(aux2[s,t] for s in ss)\n",
    "        for state in ss:\n",
    "            alfas[state,t] = aux2[state,t]/gammas[t]\n",
    "\n",
    "    p = np.exp(np.sum(np.log(gammas))) # summing logs instead of multiplying probabilities to avoid underflow. Probability of y(0) ignored\n",
    "    return p,alfas,gammas\n",
    "\n",
    "p,alfas,gammas = FA2(y,ps0,pys,pss)"
   ]
  },
  {
   "cell_type": "markdown",
   "metadata": {},
   "source": [
    "### Backward Algorithm"
   ]
  },
  {
   "cell_type": "code",
   "execution_count": 203,
   "metadata": {},
   "outputs": [],
   "source": [
    "# Parameters\n",
    "ss = np.array([0,1]).astype(int)\n",
    "n_states = 2\n",
    "ps0 = np.array([0.5,0.5])\n",
    "pys = [{-1: 0.1, 0: 0.25, 1: 0.4, 2: 0.25},{-1: 0.5, 0: 0.1, 1: 0.3, 2: 0.1}]\n",
    "p00=0.8\n",
    "p11=0.9\n",
    "pss = [{0:p00, 1:1-p00},{0:1-p11, 1:p11}]\n",
    "y = x.astype(int)\n",
    "N = 100"
   ]
  },
  {
   "cell_type": "code",
   "execution_count": 116,
   "metadata": {},
   "outputs": [],
   "source": [
    "_, alfas, gammas = FA(y, ps0, pys,pss)\n",
    "betas = np.full([n_states,N],np.nan)\n",
    "t = N-1\n",
    "for s in ss: betas[s,t] = 1"
   ]
  },
  {
   "cell_type": "code",
   "execution_count": 119,
   "metadata": {},
   "outputs": [],
   "source": [
    "for state in ss:\n",
    "    betas[state,t-1] = sum(betas[s,t]*pys[s][y[t]]*pss[state][s]/gammas[t] for s in ss)\n",
    "t -= 1"
   ]
  },
  {
   "cell_type": "code",
   "execution_count": 22,
   "metadata": {},
   "outputs": [
    {
     "data": {
      "text/plain": [
       "array([[1.24522747, 1.13274575, 1.19888564, 1.06276602, 1.0483721 ,\n",
       "        0.98725494, 0.87061077, 0.68163726, 1.28187966, 0.74196079,\n",
       "        2.08999549, 1.24356828, 0.82463541, 0.61898443, 1.09036801,\n",
       "        0.5946266 , 1.37627839, 0.75917466, 2.36069208, 1.39595751,\n",
       "        1.30500692, 1.22567048, 1.14651998, 1.05615396, 0.94155544,\n",
       "        0.78621674, 2.00997199, 1.23577551, 1.13828741, 1.03255702,\n",
       "        0.90335415, 0.73206742, 0.49402338, 0.54877056, 1.64930405,\n",
       "        0.88740609, 0.69449178, 2.0049186 , 1.84032931, 1.74253027,\n",
       "        1.69743376, 1.25041909, 1.00894453, 0.91832666, 0.75612066,\n",
       "        0.49896116, 0.35683961, 0.53542111, 0.30983079, 0.28733786,\n",
       "        0.3199102 , 0.53867476, 1.82431515, 1.61079798, 0.95148355,\n",
       "        0.58078091, 0.81933785, 0.40467441, 0.3807028 , 0.77305837,\n",
       "        3.1612526 , 1.79278487, 1.71837203, 1.22275483, 1.19392508,\n",
       "        1.15407276, 0.87612757, 1.96553102, 1.89386591, 1.88550471,\n",
       "        1.43425864, 1.23898838, 1.14236189, 1.22739099, 1.31409142,\n",
       "        1.17565096, 1.2651755 , 1.1452861 , 1.21883668, 1.08820092,\n",
       "        0.95440724, 0.80933831, 0.54494128, 0.37098497, 0.56945296,\n",
       "        0.34443024, 0.47098951, 1.38166152, 1.16620962, 0.6425391 ,\n",
       "        0.3993799 , 0.29515903, 0.27788906, 0.27804607, 0.2962621 ,\n",
       "        0.40586967, 1.04811759, 0.5002929 , 1.20652168, 1.        ],\n",
       "       [0.38693133, 0.50220343, 0.50178143, 0.76434458, 0.87875076,\n",
       "        1.0255301 , 1.22582581, 1.50849002, 0.93630469, 1.19162869,\n",
       "        0.85568824, 0.86466258, 1.23609447, 1.51140268, 0.98184402,\n",
       "        1.28104312, 0.9525686 , 1.1306949 , 0.85586624, 0.80147926,\n",
       "        0.7962725 , 0.81532924, 0.86139455, 0.94110404, 1.06593965,\n",
       "        1.25388367, 0.81353542, 0.84416754, 0.88768443, 0.96936646,\n",
       "        1.10097971, 1.30148276, 1.5997576 , 1.08319871, 0.96569312,\n",
       "        1.04397982, 1.17178162, 0.89085365, 0.77281823, 0.67179675,\n",
       "        0.57323729, 0.63900947, 0.97641688, 1.1685575 , 1.4337351 ,\n",
       "        1.81014789, 1.1465236 , 1.02773573, 1.14910312, 1.04122871,\n",
       "        1.02182705, 1.0127926 , 0.97775526, 0.89063207, 1.03152726,\n",
       "        1.63074356, 1.03922363, 1.4317624 , 1.08061771, 1.01000568,\n",
       "        0.93566244, 0.72912912, 0.63071394, 0.7160911 , 0.74933163,\n",
       "        0.79890294, 1.30518007, 0.71285972, 0.58025969, 0.43495983,\n",
       "        0.35504835, 0.35705514, 0.44259711, 0.41773426, 0.36282576,\n",
       "        0.42057247, 0.37911847, 0.47622783, 0.46286742, 0.67285392,\n",
       "        1.21294321, 1.53174715, 1.97025048, 1.17126013, 1.02867269,\n",
       "        1.14669368, 1.03124633, 0.98767278, 0.96923465, 1.23659799,\n",
       "        1.48831661, 1.09955248, 1.03313865, 1.02171203, 1.01927235,\n",
       "        1.0159981 , 0.99870811, 1.16762171, 0.98426769, 1.        ]])"
      ]
     },
     "execution_count": 22,
     "metadata": {},
     "output_type": "execute_result"
    }
   ],
   "source": [
    "def BA(y,ps0,pys,pss):\n",
    "    \"\"\"\n",
    "    y: np.array(observations).astype(int)\n",
    "    ps0: np.array(initial state probabilities)\n",
    "    pys: vector of dictionaries containing the probability for each y given s. E.g. [{3:0.4, 4:0.6},{3:0.9, 4:0.1}]. Both dictionaries must contain the same keys\n",
    "    pss: vector of dictionaries containing the state transition probabilities\n",
    "    \"\"\"\n",
    "    N = y.shape[0]\n",
    "    n_states = len(ps0)\n",
    "    ss = np.arange(n_states)\n",
    "\n",
    "    _, _, gammas = FA2(y,ps0,pys,pss)\n",
    "    betas = np.full([n_states,N],np.nan)\n",
    "    for s in ss: betas[s,N-1] = 1\n",
    "\n",
    "    for t in range(N-1,0,-1):\n",
    "        for state in ss:\n",
    "            betas[state,t-1] = sum(betas[s,t]*pys[s][y[t]]*pss[state][s]/gammas[t] for s in ss)\n",
    "    \n",
    "    return betas\n",
    "BA(y,ps0,pys,pss)"
   ]
  },
  {
   "cell_type": "markdown",
   "metadata": {},
   "source": [
    "### Viterbi Algorithm"
   ]
  },
  {
   "cell_type": "code",
   "execution_count": 202,
   "metadata": {},
   "outputs": [],
   "source": [
    "v = np.full([n_states,N],np.nan)\n",
    "w = np.full([n_states,n_states,N],np.nan)\n",
    "B = np.full([n_states,N],np.nan)\n",
    "\n",
    "for s in ss:\n",
    "    v[s,0] = pys[s][y[0]]\n",
    "t = 0\n"
   ]
  },
  {
   "cell_type": "code",
   "execution_count": 187,
   "metadata": {},
   "outputs": [
    {
     "data": {
      "text/plain": [
       "array([0, 0, 0, 0, 0, 0, 0, 0, 1, 1, 1, 1, 1, 1, 1, 1, 1, 1, 1, 1, 1, 1,\n",
       "       1, 1, 1, 1, 1, 1, 1, 1, 1, 1, 1, 1, 0, 0, 0, 0, 0, 0, 0, 0, 0, 0,\n",
       "       1, 1, 1, 1, 1, 1, 1, 1, 0, 0, 0, 0, 0, 0, 0, 1, 1, 1, 1, 1, 1, 1,\n",
       "       1, 1, 1, 1, 1, 1, 1, 1, 1, 1, 1, 0, 0, 0, 0, 0, 0, 0, 0, 0, 0, 0,\n",
       "       0, 0, 0, 0, 0, 0, 0, 0, 0, 0, 0, 0])"
      ]
     },
     "execution_count": 187,
     "metadata": {},
     "output_type": "execute_result"
    }
   ],
   "source": [
    "for t in range(1,N):\n",
    "    for s_new in ss:\n",
    "        best = -np.Inf\n",
    "        best_s = np.nan\n",
    "        for s_old in ss:\n",
    "            w[s_old,s_new,t] = v[s_old,t-1] + np.log(pss[s_old][s_new]) + np.log(pys[s_new][y[t]])\n",
    "            if w[s_old,s_new,t] > best: \n",
    "                best = w[s_old,s_new,t]\n",
    "                best_s = s_old\n",
    "        \n",
    "        B[s_new,t] = best_s\n",
    "        v[s_new,t] = w[best_s,s_new,t]\n",
    "s_opt = np.full(N,np.nan).astype(int)\n",
    "s_opt[t] = np.argmax(v[:,-1])\n",
    "for t in range(N-2,-1,-1):\n",
    "    s_opt[t] = B[s_opt[t+1],t+1]\n",
    "s_opt\n"
   ]
  },
  {
   "cell_type": "code",
   "execution_count": 35,
   "metadata": {},
   "outputs": [
    {
     "data": {
      "text/plain": [
       "array([0, 0, 0, 0, 0, 0, 0, 0, 1, 1, 1, 1, 1, 1, 1, 1, 1, 1, 1, 1, 1, 1,\n",
       "       1, 1, 1, 1, 1, 1, 1, 1, 1, 1, 1, 1, 1, 1, 1, 1, 1, 1, 1, 1, 1, 1,\n",
       "       1, 1, 1, 1, 1, 1, 1, 1, 1, 1, 1, 1, 1, 1, 1, 1, 1, 0, 0, 0, 0, 0,\n",
       "       0, 0, 0, 0, 0, 0, 0, 0, 0, 0, 0, 0, 0, 0, 0, 0, 0, 1, 1, 1, 1, 1,\n",
       "       1, 1, 1, 1, 1, 1, 1, 1, 1, 1, 1, 1])"
      ]
     },
     "execution_count": 35,
     "metadata": {},
     "output_type": "execute_result"
    }
   ],
   "source": [
    "def VA(y,pys,pss):\n",
    "    \"\"\"\n",
    "    y: np.array(observations).astype(int)\n",
    "    pys: vector of dictionaries containing the probability for each y given s. E.g. [{3:0.4, 4:0.6},{3:0.9, 4:0.1}]. Both dictionaries must contain the same keys\n",
    "    pss: vector of dictionaries containing the state transition probabilities\n",
    "    \"\"\"\n",
    "    N = y.shape[0]\n",
    "    n_states = len(pss)\n",
    "    v = np.full([n_states,N],np.nan)\n",
    "    w = np.full([n_states,n_states,N],np.nan)\n",
    "    B = np.full([n_states,N],np.nan)\n",
    "\n",
    "    for s in ss:\n",
    "        v[s,0] = pys[s][y[0]]\n",
    "\n",
    "    for t in range(1,N):\n",
    "        for s_new in ss:\n",
    "            best = -np.Inf\n",
    "            best_s = np.nan\n",
    "            for s_old in ss:\n",
    "                w[s_old,s_new,t] = v[s_old,t-1] + np.log(pss[s_old][s_new]) + np.log(pys[s_new][y[t]])\n",
    "                if w[s_old,s_new,t] > best: \n",
    "                    best = w[s_old,s_new,t]\n",
    "                    best_s = s_old\n",
    "            \n",
    "            B[s_new,t] = best_s\n",
    "            v[s_new,t] = w[best_s,s_new,t]\n",
    "    s_opt = np.full(N,np.nan).astype(int)\n",
    "    s_opt[t] = np.argmax(v[:,-1])\n",
    "    for t in range(N-2,-1,-1):\n",
    "        s_opt[t] = B[s_opt[t+1],t+1]\n",
    "    return s_opt\n",
    "VA(y,pys,pss)    "
   ]
  },
  {
   "cell_type": "code",
   "execution_count": 240,
   "metadata": {},
   "outputs": [
    {
     "data": {
      "text/plain": [
       "[<matplotlib.lines.Line2D at 0x7ffb076b2590>]"
      ]
     },
     "execution_count": 240,
     "metadata": {},
     "output_type": "execute_result"
    },
    {
     "data": {
      "image/png": "[encoded data removed]",
      "text/plain": [
       "<Figure size 432x288 with 1 Axes>"
      ]
     },
     "metadata": {
      "needs_background": "light"
     },
     "output_type": "display_data"
    }
   ],
   "source": [
    "fig,ax = plt.subplots()\n",
    "ax.plot(np.arange(N),s_true)\n",
    "ax.plot(np.arange(N),VA(y,pys,pss))"
   ]
  },
  {
   "cell_type": "code",
   "execution_count": 36,
   "metadata": {},
   "outputs": [
    {
     "data": {
      "text/plain": [
       "0.94"
      ]
     },
     "execution_count": 36,
     "metadata": {},
     "output_type": "execute_result"
    }
   ],
   "source": [
    "def viterbi_accuracy(s_true,s_predicted):\n",
    "    if s_true.shape[0] == s_predicted.shape[0]:\n",
    "        N = s_true.shape[0]\n",
    "    else:\n",
    "        raise ValueError(\"Both state vectors must be of the same length\")\n",
    "    right = 0\n",
    "    for i in range(N):\n",
    "        if s_true[i] == s_predicted[i]: right += 1\n",
    "    \n",
    "    return right/N\n",
    "viterbi_accuracy(s_true,VA(y,pys,pss))\n"
   ]
  },
  {
   "cell_type": "markdown",
   "metadata": {},
   "source": [
    "### Baum-Welch Algorithm"
   ]
  },
  {
   "cell_type": "code",
   "execution_count": 52,
   "metadata": {},
   "outputs": [
    {
     "name": "stdout",
     "output_type": "stream",
     "text": [
      "[0.5 0.5]\n",
      "[{0: 0.8, 1: 0.2}, {0: 0.1, 1: 0.9}]\n",
      "[{-1: 0.15, 0: 0.35, 1: 0.15, 2: 0.35}, {-1: 0.35, 0: 0.15, 1: 0.35, 2: 0.15}]\n"
     ]
    }
   ],
   "source": [
    "# Initial parameters\n",
    "pi0 = np.array([0.5,0.5])\n",
    "a0 = [{0:0.8, 1:0.2},{0:0.1, 1:0.9}]\n",
    "b0 = [{-1: 0.15, 0: 0.35, 1: 0.15, 2: 0.35},{-1: 0.35, 0: 0.15, 1: 0.35, 2: 0.15}]\n",
    "n_states = len(a0)\n",
    "ss = np.arange(n_states)\n",
    "N = y.shape[0]\n",
    "pi=pi0\n",
    "a=a0\n",
    "b=b0\n",
    "print(pi0)\n",
    "print(a0)\n",
    "print(b0)"
   ]
  },
  {
   "cell_type": "code",
   "execution_count": 32,
   "metadata": {},
   "outputs": [
    {
     "name": "stdout",
     "output_type": "stream",
     "text": [
      "[0.87278421 0.12721579]\n",
      "[{0: 0.5933770120685556, 1: 0.4066229879314447}, {0: 0.11394687815748732, 1: 0.886053121842513}]\n",
      "[{-1: 0.10764296848655633, 0: 0.3113447868599152, 1: 0.3733137449951793, 2: 0.20769849965834916}, {-1: 0.3718644192195063, 0: 0.06150223483100243, 1: 0.4212156906149375, 2: 0.14541765533455384}]\n"
     ]
    }
   ],
   "source": [
    "_, alfas, gammas = FA2(y,pi,b,a)\n",
    "betas = BA(y,pi,b,a)\n",
    "w = np.multiply(alfas,betas)\n",
    "wprima = np.full([n_states,n_states,N-1],np.nan)\n",
    "for t in range(N-1):\n",
    "    for s_old in ss:\n",
    "        for s_new in ss:\n",
    "            wprima[s_old,s_new,t] = alfas[s_old,t]*a[s_old][s_new]*b[s_new][y[t+1]]*betas[s_new,t+1]/gammas[t+1]\n",
    "\n",
    "for s_old in ss:\n",
    "    pi[s_old] = w[s_old,1]\n",
    "    for s_new in ss:\n",
    "        a[s_old][s_new] = sum(wprima[s_old,s_new,t] for t in range(N-1))/sum(wprima[s_old,s,t] for s in ss for t in range(N-1))\n",
    "    for yi in b[0].keys():\n",
    "        b[s_old][yi] = sum(w[s_old,t] for t in range(N) if y[t] == yi)/sum(w[s_old,t] for t in range(N))\n",
    "\n",
    "print(pi)\n",
    "print(a)\n",
    "print(b)"
   ]
  },
  {
   "cell_type": "code",
   "execution_count": 57,
   "metadata": {},
   "outputs": [
    {
     "name": "stdout",
     "output_type": "stream",
     "text": [
      "Completed iterations: 0/1000\n",
      "Completed iterations: 100/1000\n",
      "Completed iterations: 200/1000\n",
      "Completed iterations: 300/1000\n",
      "Completed iterations: 400/1000\n",
      "Completed iterations: 500/1000\n",
      "Completed iterations: 600/1000\n",
      "Completed iterations: 700/1000\n",
      "Completed iterations: 800/1000\n",
      "Completed iterations: 900/1000\n",
      "0.76\n",
      "[0.98649357 0.01350643]\n",
      "[{0: 0.8014622957464786, 1: 0.19853770425352127}, {0: 0.11849150811228319, 1: 0.8815084918877166}]\n",
      "[{-1: 1.2667698466953084e-110, 0: 0.22155829052758003, 1: 0.6800877330122453, 2: 0.09835397646017455}, {-1: 0.5127992988999938, 0: 0.05356145123717702, 1: 0.23331095839879967, 2: 0.20032829146402942}]\n"
     ]
    }
   ],
   "source": [
    "def BWA(y,pi0,a0,b0,n_iter,n_talk=50):\n",
    "    n_states = len(a0)\n",
    "    ss = np.arange(n_states)\n",
    "    N = y.shape[0]\n",
    "\n",
    "    pi = pi0\n",
    "    a = a0\n",
    "    b = b0\n",
    "    ys = b[0].keys()\n",
    "    log = []\n",
    "    log.append([a[0][0],a[1][1],b[0][-1],b[0][0],b[0][1],b[0][2],b[1][-1],b[1][0],b[1][1],b[1][2]])\n",
    "\n",
    "    for iter in range(n_iter):\n",
    "        prob, alfas, gammas = FA2(y,pi,b,a)\n",
    "        betas = BA(y,pi,b,a)\n",
    "        w = np.multiply(alfas,betas)\n",
    "        wprima = np.full([n_states,n_states,N-1],np.nan)\n",
    "        for t in range(N-1):\n",
    "            for s_old in ss:\n",
    "                for s_new in ss:\n",
    "                    wprima[s_old,s_new,t] = alfas[s_old,t]*a[s_old][s_new]*b[s_new][y[t+1]]*betas[s_new,t+1]/gammas[t+1]\n",
    "\n",
    "        for s_old in ss:\n",
    "            pi[s_old] = w[s_old,1]\n",
    "            for s_new in ss:\n",
    "                a[s_old][s_new] = sum(wprima[s_old,s_new,t] for t in range(N-1))/sum(wprima[s_old,s,t] for s in ss for t in range(N-1))\n",
    "            for yi in b[0].keys():\n",
    "                b[s_old][yi] = sum(w[s_old,t] for t in range(N) if y[t] == yi)/sum(w[s_old,t] for t in range(N))\n",
    "        log.append([a[0][0],a[1][1],b[0][-1],b[0][0],b[0][1],b[0][2],b[1][-1],b[1][0],b[1][1],b[1][2]])\n",
    "\n",
    "        if iter%n_talk==0:\n",
    "            print(f\"Completed iterations: {iter}/{n_iter}\")\n",
    "\n",
    "    return pi,a,b,log\n",
    "\n",
    "pi,a,b,log = BWA(y,pi0,a0,b0,1000,n_talk=100)\n",
    "print(viterbi_accuracy(s_true,VA(y,b,a)))\n",
    "print(pi)\n",
    "print(a)\n",
    "print(b)\n"
   ]
  },
  {
   "cell_type": "code",
   "execution_count": null,
   "metadata": {},
   "outputs": [],
   "source": []
  }
 ],
 "metadata": {
  "kernelspec": {
   "display_name": "Python 3.7.13 ('venv': venv)",
   "language": "python",
   "name": "python3"
  },
  "language_info": {
   "codemirror_mode": {
    "name": "ipython",
    "version": 3
   },
   "file_extension": ".py",
   "mimetype": "text/x-python",
   "name": "python",
   "nbconvert_exporter": "python",
   "pygments_lexer": "ipython3",
   "version": "3.7.13"
  },
  "orig_nbformat": 4,
  "vscode": {
   "interpreter": {
    "hash": "cc24fe91b9ab0d18ea06345234974b11346273ad6afbdadd1241ef1b29f2af51"
   }
  }
 },
 "nbformat": 4,
 "nbformat_minor": 2
}
