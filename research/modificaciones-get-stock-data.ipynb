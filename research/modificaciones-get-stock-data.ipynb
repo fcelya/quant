{
 "cells": [
  {
   "cell_type": "code",
   "execution_count": 1,
   "metadata": {},
   "outputs": [],
   "source": [
    "import sys\n",
    "import yfinance as yf\n",
    "import pandas as pd\n",
    "import requests\n",
    "import os\n",
    "import os.path\n",
    "\n",
    "sys.path.append('../')\n",
    "from utils.basic import get_stock_data"
   ]
  },
  {
   "cell_type": "code",
   "execution_count": 2,
   "metadata": {},
   "outputs": [
    {
     "name": "stdout",
     "output_type": "stream",
     "text": [
      "[*********************100%***********************]  1 of 1 completed\n",
      "Index(['open', 'high', 'low', 'close', 'adj close', 'volume'], dtype='object')\n",
      "            open      high       low     close  adj close  volume\n",
      "Date                                                             \n",
      "1980-03-17   0.0  3.302083  3.125000  3.145833   3.145833  219600\n",
      "1980-03-18   0.0  3.125000  2.937500  3.031250   3.031250  727200\n",
      "1980-03-19   0.0  3.083333  3.020833  3.041667   3.041667  295200\n",
      "1980-03-20   0.0  3.062500  3.010417  3.010417   3.010417  159600\n",
      "1980-03-21   0.0  3.020833  2.906250  2.916667   2.916667  130800\n"
     ]
    }
   ],
   "source": [
    "get_stock_data(['AMD'], path = '../data/test', interval='1d')"
   ]
  },
  {
   "cell_type": "code",
   "execution_count": null,
   "metadata": {},
   "outputs": [],
   "source": []
  }
 ],
 "metadata": {
  "kernelspec": {
   "display_name": "Python 3.7.14 ('venv': venv)",
   "language": "python",
   "name": "python3"
  },
  "language_info": {
   "codemirror_mode": {
    "name": "ipython",
    "version": 3
   },
   "file_extension": ".py",
   "mimetype": "text/x-python",
   "name": "python",
   "nbconvert_exporter": "python",
   "pygments_lexer": "ipython3",
   "version": "3.7.14"
  },
  "orig_nbformat": 4,
  "vscode": {
   "interpreter": {
    "hash": "482fab8dd0c87b3b372662945efe7fa20dff6d8a1a8dc9075e04f51009ae7683"
   }
  }
 },
 "nbformat": 4,
 "nbformat_minor": 2
}
