{
 "cells": [
  {
   "cell_type": "code",
   "execution_count": 2,
   "metadata": {},
   "outputs": [
    {
     "ename": "ModuleNotFoundError",
     "evalue": "No module named 'quantstats'",
     "output_type": "error",
     "traceback": [
      "\u001b[0;31m---------------------------------------------------------------------------\u001b[0m",
      "\u001b[0;31mModuleNotFoundError\u001b[0m                       Traceback (most recent call last)",
      "\u001b[0;32m/tmp/ipykernel_13736/3859694003.py\u001b[0m in \u001b[0;36m<module>\u001b[0;34m\u001b[0m\n\u001b[1;32m      6\u001b[0m \u001b[0;32mfrom\u001b[0m \u001b[0mstrategies\u001b[0m\u001b[0;34m.\u001b[0m\u001b[0mTaLib_SMACross\u001b[0m \u001b[0;32mimport\u001b[0m \u001b[0mTaLib_SMACross\u001b[0m\u001b[0;34m\u001b[0m\u001b[0;34m\u001b[0m\u001b[0m\n\u001b[1;32m      7\u001b[0m \u001b[0;32mfrom\u001b[0m \u001b[0mdatetime\u001b[0m \u001b[0;32mimport\u001b[0m \u001b[0mdatetime\u001b[0m\u001b[0;34m\u001b[0m\u001b[0;34m\u001b[0m\u001b[0m\n\u001b[0;32m----> 8\u001b[0;31m \u001b[0;32mfrom\u001b[0m \u001b[0mutils\u001b[0m\u001b[0;34m.\u001b[0m\u001b[0mbasic\u001b[0m \u001b[0;32mimport\u001b[0m \u001b[0mget_report_complete\u001b[0m\u001b[0;34m\u001b[0m\u001b[0;34m\u001b[0m\u001b[0m\n\u001b[0m\u001b[1;32m      9\u001b[0m \u001b[0;34m\u001b[0m\u001b[0m\n\u001b[1;32m     10\u001b[0m \u001b[0msys\u001b[0m\u001b[0;34m.\u001b[0m\u001b[0mpath\u001b[0m\u001b[0;34m.\u001b[0m\u001b[0mappend\u001b[0m\u001b[0;34m(\u001b[0m\u001b[0;34m\"../libraries/backtrader\"\u001b[0m\u001b[0;34m)\u001b[0m\u001b[0;34m\u001b[0m\u001b[0;34m\u001b[0m\u001b[0m\n",
      "\u001b[0;32m~/quant/utils/basic.py\u001b[0m in \u001b[0;36m<module>\u001b[0;34m\u001b[0m\n\u001b[1;32m     11\u001b[0m \u001b[0;34m\u001b[0m\u001b[0m\n\u001b[1;32m     12\u001b[0m \u001b[0msys\u001b[0m\u001b[0;34m.\u001b[0m\u001b[0mpath\u001b[0m\u001b[0;34m.\u001b[0m\u001b[0mappend\u001b[0m\u001b[0;34m(\u001b[0m\u001b[0;34m\"../libraries/backtrader\"\u001b[0m\u001b[0;34m)\u001b[0m\u001b[0;34m\u001b[0m\u001b[0;34m\u001b[0m\u001b[0m\n\u001b[0;32m---> 13\u001b[0;31m \u001b[0;32mimport\u001b[0m \u001b[0mquantstats\u001b[0m \u001b[0;32mas\u001b[0m \u001b[0mqs\u001b[0m\u001b[0;34m\u001b[0m\u001b[0;34m\u001b[0m\u001b[0m\n\u001b[0m\u001b[1;32m     14\u001b[0m \u001b[0;34m\u001b[0m\u001b[0m\n\u001b[1;32m     15\u001b[0m \u001b[0msys\u001b[0m\u001b[0;34m.\u001b[0m\u001b[0mpath\u001b[0m\u001b[0;34m.\u001b[0m\u001b[0mappend\u001b[0m\u001b[0;34m(\u001b[0m\u001b[0;34m\"../\"\u001b[0m\u001b[0;34m)\u001b[0m\u001b[0;34m\u001b[0m\u001b[0;34m\u001b[0m\u001b[0m\n",
      "\u001b[0;31mModuleNotFoundError\u001b[0m: No module named 'quantstats'"
     ]
    }
   ],
   "source": [
    "import pandas as pd\n",
    "import sys, os\n",
    "\n",
    "sys.path.append(\"../\")\n",
    "from utils.logging import Logger01\n",
    "from strategies.TaLib_SMACross import TaLib_SMACross\n",
    "from datetime import datetime\n",
    "from utils.basic import get_report_complete\n",
    "\n",
    "sys.path.append(\"../libraries/backtrader\")\n",
    "import backtrader as bt\n",
    "\n",
    "sys.path.append('../libraries/quantstats')\n",
    "import quantstats as qs"
   ]
  },
  {
   "cell_type": "code",
   "execution_count": null,
   "metadata": {},
   "outputs": [
    {
     "name": "stdout",
     "output_type": "stream",
     "text": [
      "Starting Portfolio Value: 1000.00\n",
      "50 15\n",
      "[LOG] - Funds logged\n",
      "[LOG] - Orders logged\n",
      "[LOG] - Trades logged\n"
     ]
    },
    {
     "name": "stderr",
     "output_type": "stream",
     "text": [
      "/home/fcelaya/quant/venv/lib/python3.7/site-packages/pandas/core/indexing.py:1773: SettingWithCopyWarning: \n",
      "A value is trying to be set on a copy of a slice from a DataFrame.\n",
      "Try using .loc[row_indexer,col_indexer] = value instead\n",
      "\n",
      "See the caveats in the documentation: https://pandas.pydata.org/pandas-docs/stable/user_guide/indexing.html#returning-a-view-versus-a-copy\n",
      "  self._setitem_single_column(ilocs[0], value, pi)\n"
     ]
    },
    {
     "name": "stdout",
     "output_type": "stream",
     "text": [
      "No analysis\n",
      "Final Portfolio Value: 1085.17\n"
     ]
    }
   ],
   "source": [
    "# Create a cerebro entity\n",
    "cerebro = bt.Cerebro()\n",
    "\n",
    "# Add a strategy\n",
    "cerebro.addstrategy(TaLib_SMACross)\n",
    "\n",
    "datapath='../data/us/daily/aapl.csv'\n",
    "df = pd.read_csv(datapath)\n",
    "df['date'] = pd.to_datetime(df['date'])\n",
    "# Create a Data Feed\n",
    "data = bt.feeds.PandasData(dataname=df,datetime=0,open=1,high=2,low=3,close=4,volume=5)\n",
    "\n",
    "df = pd.read_csv(datapath)\n",
    "df[\"date\"] = pd.to_datetime(df[\"date\"])\n",
    "# Create a Data Feed\n",
    "data = bt.feeds.PandasData(\n",
    "    dataname=df, datetime=0, open=1, high=2, low=3, close=4, volume=5\n",
    ")\n",
    "\n",
    "# Add the Data Feed to Cerebro\n",
    "cerebro.adddata(data)\n",
    "cerebro.resampledata(data, name=datapath.replace(\"/\", \"-\").replace(\"\\\\\", \"-\"))\n",
    "\n",
    "log_path = f'../backtests/test_TaLib_SMACross_{datapath.replace(\"/\",\"-\").replace(chr(92),\"-\")}_{datetime.now().isoformat()}'\n",
    "\n",
    "cerebro.addanalyzer(Logger01, log_path=log_path, data_df=df)\n",
    "\n",
    "# Set our desired cash start\n",
    "cerebro.broker.setcash(1000)\n",
    "cerebro.broker.setcommission(commission=0.001, margin=None)\n",
    "\n",
    "if not os.path.exists(log_path):\n",
    "    os.makedirs(log_path)\n",
    "writer_path = os.path.join(log_path, \"writer.csv\")\n",
    "cerebro.addwriter(bt.WriterFile, csv=True, out=writer_path)\n",
    "\n",
    "# Print out the starting conditions\n",
    "print(\"Starting Portfolio Value: %.2f\" % cerebro.broker.getvalue())\n",
    "\n",
    "# Run over everything\n",
    "cerebro.run(exactbars=1)\n",
    "\n",
    "# Print out the final result\n",
    "print(\"Final Portfolio Value: %.2f\" % cerebro.broker.getvalue())\n"
   ]
  },
  {
   "cell_type": "code",
   "execution_count": null,
   "metadata": {},
   "outputs": [],
   "source": [
    "get_report_complete(log_path=log_path, html=True,console=True)"
   ]
  }
 ],
 "metadata": {
  "kernelspec": {
   "display_name": "Python 3.7.13 ('venv': venv)",
   "language": "python",
   "name": "python3"
  },
  "language_info": {
   "codemirror_mode": {
    "name": "ipython",
    "version": 3
   },
   "file_extension": ".py",
   "mimetype": "text/x-python",
   "name": "python",
   "nbconvert_exporter": "python",
   "pygments_lexer": "ipython3",
   "version": "3.7.13"
  },
  "orig_nbformat": 4,
  "vscode": {
   "interpreter": {
    "hash": "cc24fe91b9ab0d18ea06345234974b11346273ad6afbdadd1241ef1b29f2af51"
   }
  }
 },
 "nbformat": 4,
 "nbformat_minor": 2
}
