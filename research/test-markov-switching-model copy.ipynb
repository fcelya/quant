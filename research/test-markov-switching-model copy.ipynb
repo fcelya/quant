{
 "cells": [
  {
   "cell_type": "markdown",
   "metadata": {},
   "source": [
    "## Discrete-Discrete HMM from scratch\n",
    "\n",
    "For references check:\n",
    "- Hidden Markov models and dynamical systems (Andrew M. Fraser)"
   ]
  },
  {
   "cell_type": "code",
   "execution_count": 153,
   "metadata": {},
   "outputs": [],
   "source": [
    "import numpy as np\n",
    "import matplotlib.pyplot as plt\n",
    "from copy import deepcopy as dc"
   ]
  },
  {
   "cell_type": "markdown",
   "metadata": {},
   "source": [
    "## Test data preparation"
   ]
  },
  {
   "cell_type": "markdown",
   "metadata": {},
   "source": [
    "### Simulated problem\n",
    "Problem parameters\n",
    "- n_states = 2\n",
    "- p_0 = {0: 1/4, 1: 1/2, 2: 1/4}\n",
    "- p_1 = {-1: 1/2, 1: 1/5, 2: 3/10}\n",
    "- p00 = 0.8\n",
    "- p11 = 0.9"
   ]
  },
  {
   "cell_type": "code",
   "execution_count": 2,
   "metadata": {},
   "outputs": [],
   "source": [
    "p_0 = {0: 1/4, 1: 1/2, 2: 1/4}\n",
    "p_1 = {-1: 1/2, 1: 1/5, 2: 3/10}\n",
    "p00=0.8\n",
    "p11=0.9\n",
    "\n",
    "N = 100"
   ]
  },
  {
   "cell_type": "code",
   "execution_count": 13,
   "metadata": {},
   "outputs": [],
   "source": [
    "x = np.zeros(N)\n",
    "s = np.zeros(N)\n",
    "s[0] = 0\n",
    "\n",
    "def random_draw(p):\n",
    "    cumprob=0\n",
    "    r = np.random.rand()\n",
    "    for k in p.keys():\n",
    "        cumprob += p[k]\n",
    "        if r<cumprob:\n",
    "            return k\n",
    "            \n",
    "x[0] = random_draw(p_0)\n",
    "\n",
    "for i in range(1,N-1):\n",
    "    r = np.random.rand()\n",
    "    if s[i] == 0:\n",
    "        x[i] = random_draw(p_0)\n",
    "        if r > p00:\n",
    "            s[i+1] = 1\n",
    "        else:\n",
    "            s[i+1] = s[i]\n",
    "    else:\n",
    "        x[i] = random_draw(p_1)\n",
    "        if r > p11:\n",
    "            s[i+1] = 0\n",
    "        else:\n",
    "            s[i+1] = 1\n",
    "if s[-1] == 0:\n",
    "    x[-1] = random_draw(p_0)\n",
    "else:\n",
    "    x[-1] = random_draw(p_1)"
   ]
  },
  {
   "cell_type": "code",
   "execution_count": 14,
   "metadata": {},
   "outputs": [
    {
     "data": {
      "text/plain": [
       "<bound method Figure.show of <Figure size 432x288 with 2 Axes>>"
      ]
     },
     "execution_count": 14,
     "metadata": {},
     "output_type": "execute_result"
    },
    {
     "data": {
      "image/png": "[encoded data removed]",
      "text/plain": [
       "<Figure size 432x288 with 2 Axes>"
      ]
     },
     "metadata": {
      "needs_background": "light"
     },
     "output_type": "display_data"
    }
   ],
   "source": [
    "fig,ax = plt.subplots()\n",
    "ax.scatter(np.arange(N),x)\n",
    "ax2 = ax.twinx()\n",
    "ax2.plot(np.arange(N),s)\n",
    "fig.show"
   ]
  },
  {
   "cell_type": "markdown",
   "metadata": {},
   "source": [
    "## Algorithms"
   ]
  },
  {
   "cell_type": "markdown",
   "metadata": {},
   "source": [
    "### Forward Algorithm"
   ]
  },
  {
   "cell_type": "code",
   "execution_count": 76,
   "metadata": {},
   "outputs": [],
   "source": [
    "# Parameters\n",
    "ss = np.array([0,1]).astype(int)\n",
    "ps0 = [0.5,0.5]\n",
    "pys = [{-1: 0.1, 0: 0.25, 1: 0.4, 2: 0.25},{-1: 0.5, 0: 0.1, 1: 0.3, 2: 0.1}]\n",
    "p00=0.8\n",
    "p11=0.9\n",
    "pss = [{0:p00, 1:1-p00},{0:1-p11, 1:p11}]\n",
    "y = x.astype(int)\n",
    "N = 100"
   ]
  },
  {
   "cell_type": "code",
   "execution_count": 88,
   "metadata": {},
   "outputs": [
    {
     "data": {
      "text/plain": [
       "array([0.        , 0.18571429,        nan,        nan,        nan,\n",
       "              nan,        nan,        nan,        nan,        nan,\n",
       "              nan,        nan,        nan,        nan,        nan,\n",
       "              nan,        nan,        nan,        nan,        nan,\n",
       "              nan,        nan,        nan,        nan,        nan,\n",
       "              nan,        nan,        nan,        nan,        nan,\n",
       "              nan,        nan,        nan,        nan,        nan,\n",
       "              nan,        nan,        nan,        nan,        nan,\n",
       "              nan,        nan,        nan,        nan,        nan,\n",
       "              nan,        nan,        nan,        nan,        nan,\n",
       "              nan,        nan,        nan,        nan,        nan,\n",
       "              nan,        nan,        nan,        nan,        nan,\n",
       "              nan,        nan,        nan,        nan,        nan,\n",
       "              nan,        nan,        nan,        nan,        nan,\n",
       "              nan,        nan,        nan,        nan,        nan,\n",
       "              nan,        nan,        nan,        nan,        nan,\n",
       "              nan,        nan,        nan,        nan,        nan,\n",
       "              nan,        nan,        nan,        nan,        nan,\n",
       "              nan,        nan,        nan,        nan,        nan,\n",
       "              nan,        nan,        nan,        nan,        nan])"
      ]
     },
     "execution_count": 88,
     "metadata": {},
     "output_type": "execute_result"
    }
   ],
   "source": [
    "alfas = np.full([2,N],np.nan)\n",
    "gammas = np.full(N,np.nan)\n",
    "t = 0\n",
    "for state in ss:\n",
    "    alfas[state,t] = ps0[state]*pys[state][y[t]]/sum(ps0[s]*pys[s][y[t]] for s in ss)\n",
    "gammas[t] = 0\n",
    "\n",
    "t += 1\n",
    "aux = np.full(2,np.nan)\n",
    "for state in ss:\n",
    "    aux[state] = pys[state][y[t]]*alfas[state,t-1]\n",
    "gammas[t] = sum(aux[state] for state in ss)\n",
    "for state in ss:\n",
    "    alfas[state,t] = aux[state]/gammas[t]\n",
    "gammas"
   ]
  },
  {
   "cell_type": "code",
   "execution_count": 94,
   "metadata": {},
   "outputs": [
    {
     "data": {
      "text/plain": [
       "array([0.        , 0.18571429, 0.19315385, 0.19881004, 0.20146131,\n",
       "       0.36098936, 0.35665777, 0.18887203,        nan,        nan,\n",
       "              nan,        nan,        nan,        nan,        nan,\n",
       "              nan,        nan,        nan,        nan,        nan,\n",
       "              nan,        nan,        nan,        nan,        nan,\n",
       "              nan,        nan,        nan,        nan,        nan,\n",
       "              nan,        nan,        nan,        nan,        nan,\n",
       "              nan,        nan,        nan,        nan,        nan,\n",
       "              nan,        nan,        nan,        nan,        nan,\n",
       "              nan,        nan,        nan,        nan,        nan,\n",
       "              nan,        nan,        nan,        nan,        nan,\n",
       "              nan,        nan,        nan,        nan,        nan,\n",
       "              nan,        nan,        nan,        nan,        nan,\n",
       "              nan,        nan,        nan,        nan,        nan,\n",
       "              nan,        nan,        nan,        nan,        nan,\n",
       "              nan,        nan,        nan,        nan,        nan,\n",
       "              nan,        nan,        nan,        nan,        nan,\n",
       "              nan,        nan,        nan,        nan,        nan,\n",
       "              nan,        nan,        nan,        nan,        nan,\n",
       "              nan,        nan,        nan,        nan,        nan])"
      ]
     },
     "execution_count": 94,
     "metadata": {},
     "output_type": "execute_result"
    }
   ],
   "source": [
    "t += 1\n",
    "for state in ss:\n",
    "    alfas[state,t-1] = sum(pss[s][state]*alfas[s][t-1] for s in ss)\n",
    "for state in ss:\n",
    "    aux[state] = pys[state][y[t]]*alfas[state,t-1]\n",
    "gammas[t] = sum(aux[state] for state in ss)\n",
    "for state in ss:\n",
    "    alfas[state,t] = aux[state]/gammas[t]\n",
    "gammas"
   ]
  },
  {
   "cell_type": "code",
   "execution_count": 101,
   "metadata": {},
   "outputs": [],
   "source": [
    "def FA(y,ps0,pys,pss):\n",
    "    \"\"\"\n",
    "    y: np.array(observations).astype(int)\n",
    "    ps0: np.array(initial state probabilities)\n",
    "    pys: vector of dictionaries containing the probability for each y given s. E.g. [{3:0.4, 4:0.6},{3:0.9, 4:0.1}]. Both dictionaries must contain the same keys\n",
    "    pss: vector of dictionaries containing the state transition probabilities\n",
    "    \"\"\"\n",
    "    N = y.shape[0]\n",
    "    n_states = ps0.shape[0]\n",
    "    ss = np.arange(n_states)\n",
    "\n",
    "    alfas = np.full([n_states,N],np.nan)\n",
    "    gammas = np.full(N,np.nan)\n",
    "    t = 0\n",
    "    for state in ss:\n",
    "        alfas[state,t] = ps0[state]*pys[state][y[t]]/sum(ps0[s]*pys[s][y[t]] for s in ss)\n",
    "    gammas[t] = 1\n",
    "\n",
    "    t += 1\n",
    "    aux = np.full(2,np.nan)\n",
    "    for state in ss:\n",
    "        aux[state] = pys[state][y[t]]*alfas[state,t-1]\n",
    "    gammas[t] = sum(aux[state] for state in ss)\n",
    "    for state in ss:\n",
    "        alfas[state,t] = aux[state]/gammas[t]\n",
    "\n",
    "\n",
    "    for t in range(2,N):\n",
    "        for state in ss:\n",
    "            alfas[state,t-1] = sum(pss[s][state]*alfas[s][t-1] for s in ss)\n",
    "            aux[state] = pys[state][y[t]]*alfas[state,t-1]\n",
    "        gammas[t] = sum(aux[state] for state in ss)\n",
    "        for state in ss:\n",
    "            alfas[state,t] = aux[state]/gammas[t]\n",
    "    \n",
    "    p = np.exp(np.sum(np.log(gammas))) # summing logs instead of multiplying probabilities to avoid underflow. Probability of y(0) ignored\n",
    "    return p,alfas,gammas"
   ]
  },
  {
   "cell_type": "markdown",
   "metadata": {},
   "source": [
    "### Backward Algorithm"
   ]
  },
  {
   "cell_type": "code",
   "execution_count": 103,
   "metadata": {},
   "outputs": [],
   "source": [
    "# Parameters\n",
    "ss = np.array([0,1]).astype(int)\n",
    "n_states = 2\n",
    "ps0 = np.array([0.5,0.5])\n",
    "pys = [{-1: 0.1, 0: 0.25, 1: 0.4, 2: 0.25},{-1: 0.5, 0: 0.1, 1: 0.3, 2: 0.1}]\n",
    "p00=0.8\n",
    "p11=0.9\n",
    "pss = [{0:p00, 1:1-p00},{0:1-p11, 1:p11}]\n",
    "y = x.astype(int)\n",
    "N = 100"
   ]
  },
  {
   "cell_type": "code",
   "execution_count": 116,
   "metadata": {},
   "outputs": [],
   "source": [
    "_, alfas, gammas = FA(y, ps0, pys,pss)\n",
    "betas = np.full([n_states,N],np.nan)\n",
    "t = N-1\n",
    "for s in ss: betas[s,t] = 1"
   ]
  },
  {
   "cell_type": "code",
   "execution_count": 119,
   "metadata": {},
   "outputs": [],
   "source": [
    "for state in ss:\n",
    "    betas[state,t-1] = sum(betas[s,t]*pys[s][y[t]]*pss[state][s]/gammas[t] for s in ss)\n",
    "t -= 1"
   ]
  },
  {
   "cell_type": "code",
   "execution_count": 124,
   "metadata": {},
   "outputs": [],
   "source": [
    "def BA(y,ps0,pys,pss):\n",
    "    \"\"\"\n",
    "    y: np.array(observations).astype(int)\n",
    "    ps0: np.array(initial state probabilities)\n",
    "    pys: vector of dictionaries containing the probability for each y given s. E.g. [{3:0.4, 4:0.6},{3:0.9, 4:0.1}]. Both dictionaries must contain the same keys\n",
    "    pss: vector of dictionaries containing the state transition probabilities\n",
    "    \"\"\"\n",
    "    N = y.shape[0]\n",
    "    n_states = ps0.shape[0]\n",
    "    ss = np.arange(n_states)\n",
    "\n",
    "    _, _, gammas = FA(y,ps0,pys,pss)\n",
    "    betas = np.full([n_states,N],np.nan)\n",
    "    for s in ss: betas[s,N-1] = 1\n",
    "\n",
    "    for t in range(N-1,-1,-1):\n",
    "        for state in ss:\n",
    "            betas[state,t-1] = sum(betas[s,t]*pys[s][y[t]]*pss[state][s]/gammas[t] for s in ss)\n",
    "    \n",
    "    return betas"
   ]
  },
  {
   "cell_type": "markdown",
   "metadata": {},
   "source": [
    "### Viterbi Algorithm"
   ]
  },
  {
   "cell_type": "code",
   "execution_count": 143,
   "metadata": {},
   "outputs": [],
   "source": [
    "def u_log(y,t,s_historic,ps0,pss):\n",
    "    N = s_historic.shape[0]\n",
    "    if len(s_historic) = 1:\n",
    "\n",
    "    t1 = sum(np.log([pss[s_historic[i-1]][s_historic[i]] for i in range(1,N)]))\n",
    "    t2 = sum(np.log([pys[s_historic[i]][y[i]] for i in range(N)]))\n",
    "    \n",
    "\n",
    "    return t1+t2"
   ]
  },
  {
   "cell_type": "code",
   "execution_count": 177,
   "metadata": {},
   "outputs": [],
   "source": [
    "v = np.full([n_states,N],np.nan)\n",
    "w = np.full([n_states,n_states,N],np.nan)\n",
    "B = np.full([n_states,N],np.nan)\n",
    "\n",
    "for s in ss:\n",
    "    v[s,0] = pys[s][y[0]]\n",
    "t = 0\n"
   ]
  },
  {
   "cell_type": "code",
   "execution_count": 187,
   "metadata": {},
   "outputs": [
    {
     "data": {
      "text/plain": [
       "array([0, 0, 0, 0, 0, 0, 0, 0, 1, 1, 1, 1, 1, 1, 1, 1, 1, 1, 1, 1, 1, 1,\n",
       "       1, 1, 1, 1, 1, 1, 1, 1, 1, 1, 1, 1, 0, 0, 0, 0, 0, 0, 0, 0, 0, 0,\n",
       "       1, 1, 1, 1, 1, 1, 1, 1, 0, 0, 0, 0, 0, 0, 0, 1, 1, 1, 1, 1, 1, 1,\n",
       "       1, 1, 1, 1, 1, 1, 1, 1, 1, 1, 1, 0, 0, 0, 0, 0, 0, 0, 0, 0, 0, 0,\n",
       "       0, 0, 0, 0, 0, 0, 0, 0, 0, 0, 0, 0])"
      ]
     },
     "execution_count": 187,
     "metadata": {},
     "output_type": "execute_result"
    }
   ],
   "source": [
    "for t in range(1,N):\n",
    "    for s_new in ss:\n",
    "        best = -np.Inf\n",
    "        best_s = np.nan\n",
    "        for s_old in ss:\n",
    "            w[s_old,s_new,t] = v[s_old,t-1] + np.log(pss[s_old][s_new]) + np.log(pys[s_new][y[t]])\n",
    "            if w[s_old,s_new,t] > best: \n",
    "                best = w[s_old,s_new,t]\n",
    "                best_s = s_old\n",
    "        \n",
    "        B[s_new,t] = best_s\n",
    "        v[s_new,t] = w[best_s,s_new,t]\n",
    "s_opt = np.full(N,np.nan).astype(int)\n",
    "s_opt[t] = np.argmax(v[:,-1])\n",
    "for t in range(N-2,-1,-1):\n",
    "    s_opt[t] = B[s_opt[t+1],t+1]\n",
    "s_opt\n"
   ]
  },
  {
   "cell_type": "code",
   "execution_count": 188,
   "metadata": {},
   "outputs": [
    {
     "ename": "AttributeError",
     "evalue": "'list' object has no attribute 'shape'",
     "output_type": "error",
     "traceback": [
      "\u001b[0;31m---------------------------------------------------------------------------\u001b[0m",
      "\u001b[0;31mAttributeError\u001b[0m                            Traceback (most recent call last)",
      "\u001b[0;32m/tmp/ipykernel_10633/2802612084.py\u001b[0m in \u001b[0;36m<module>\u001b[0;34m\u001b[0m\n\u001b[1;32m     26\u001b[0m         \u001b[0ms_opt\u001b[0m\u001b[0;34m[\u001b[0m\u001b[0mt\u001b[0m\u001b[0;34m]\u001b[0m \u001b[0;34m=\u001b[0m \u001b[0mB\u001b[0m\u001b[0;34m[\u001b[0m\u001b[0ms_opt\u001b[0m\u001b[0;34m[\u001b[0m\u001b[0mt\u001b[0m\u001b[0;34m+\u001b[0m\u001b[0;36m1\u001b[0m\u001b[0;34m]\u001b[0m\u001b[0;34m,\u001b[0m\u001b[0mt\u001b[0m\u001b[0;34m+\u001b[0m\u001b[0;36m1\u001b[0m\u001b[0;34m]\u001b[0m\u001b[0;34m\u001b[0m\u001b[0;34m\u001b[0m\u001b[0m\n\u001b[1;32m     27\u001b[0m     \u001b[0;32mreturn\u001b[0m \u001b[0ms_opt\u001b[0m\u001b[0;34m\u001b[0m\u001b[0;34m\u001b[0m\u001b[0m\n\u001b[0;32m---> 28\u001b[0;31m \u001b[0mVA\u001b[0m\u001b[0;34m(\u001b[0m\u001b[0my\u001b[0m\u001b[0;34m,\u001b[0m\u001b[0mpys\u001b[0m\u001b[0;34m,\u001b[0m\u001b[0mpss\u001b[0m\u001b[0;34m)\u001b[0m\u001b[0;34m\u001b[0m\u001b[0;34m\u001b[0m\u001b[0m\n\u001b[0m",
      "\u001b[0;32m/tmp/ipykernel_10633/2802612084.py\u001b[0m in \u001b[0;36mVA\u001b[0;34m(y, pys, pss)\u001b[0m\n\u001b[1;32m      1\u001b[0m \u001b[0;32mdef\u001b[0m \u001b[0mVA\u001b[0m\u001b[0;34m(\u001b[0m\u001b[0my\u001b[0m\u001b[0;34m,\u001b[0m\u001b[0mpys\u001b[0m\u001b[0;34m,\u001b[0m\u001b[0mpss\u001b[0m\u001b[0;34m)\u001b[0m\u001b[0;34m:\u001b[0m\u001b[0;34m\u001b[0m\u001b[0;34m\u001b[0m\u001b[0m\n\u001b[1;32m      2\u001b[0m     \u001b[0mN\u001b[0m \u001b[0;34m=\u001b[0m \u001b[0my\u001b[0m\u001b[0;34m.\u001b[0m\u001b[0mshape\u001b[0m\u001b[0;34m[\u001b[0m\u001b[0;36m0\u001b[0m\u001b[0;34m]\u001b[0m\u001b[0;34m\u001b[0m\u001b[0;34m\u001b[0m\u001b[0m\n\u001b[0;32m----> 3\u001b[0;31m     \u001b[0mn_states\u001b[0m \u001b[0;34m=\u001b[0m \u001b[0mpss\u001b[0m\u001b[0;34m.\u001b[0m\u001b[0mshape\u001b[0m\u001b[0;34m[\u001b[0m\u001b[0;36m0\u001b[0m\u001b[0;34m]\u001b[0m\u001b[0;34m\u001b[0m\u001b[0;34m\u001b[0m\u001b[0m\n\u001b[0m\u001b[1;32m      4\u001b[0m     \u001b[0mv\u001b[0m \u001b[0;34m=\u001b[0m \u001b[0mnp\u001b[0m\u001b[0;34m.\u001b[0m\u001b[0mfull\u001b[0m\u001b[0;34m(\u001b[0m\u001b[0;34m[\u001b[0m\u001b[0mn_states\u001b[0m\u001b[0;34m,\u001b[0m\u001b[0mN\u001b[0m\u001b[0;34m]\u001b[0m\u001b[0;34m,\u001b[0m\u001b[0mnp\u001b[0m\u001b[0;34m.\u001b[0m\u001b[0mnan\u001b[0m\u001b[0;34m)\u001b[0m\u001b[0;34m\u001b[0m\u001b[0;34m\u001b[0m\u001b[0m\n\u001b[1;32m      5\u001b[0m     \u001b[0mw\u001b[0m \u001b[0;34m=\u001b[0m \u001b[0mnp\u001b[0m\u001b[0;34m.\u001b[0m\u001b[0mfull\u001b[0m\u001b[0;34m(\u001b[0m\u001b[0;34m[\u001b[0m\u001b[0mn_states\u001b[0m\u001b[0;34m,\u001b[0m\u001b[0mn_states\u001b[0m\u001b[0;34m,\u001b[0m\u001b[0mN\u001b[0m\u001b[0;34m]\u001b[0m\u001b[0;34m,\u001b[0m\u001b[0mnp\u001b[0m\u001b[0;34m.\u001b[0m\u001b[0mnan\u001b[0m\u001b[0;34m)\u001b[0m\u001b[0;34m\u001b[0m\u001b[0;34m\u001b[0m\u001b[0m\n",
      "\u001b[0;31mAttributeError\u001b[0m: 'list' object has no attribute 'shape'"
     ]
    }
   ],
   "source": [
    "def VA(y,pys,pss):\n",
    "    N = y.shape[0]\n",
    "    n_states = len(pss)\n",
    "    v = np.full([n_states,N],np.nan)\n",
    "    w = np.full([n_states,n_states,N],np.nan)\n",
    "    B = np.full([n_states,N],np.nan)\n",
    "\n",
    "    for s in ss:\n",
    "        v[s,0] = pys[s][y[0]]\n",
    "\n",
    "    for t in range(1,N):\n",
    "        for s_new in ss:\n",
    "            best = -np.Inf\n",
    "            best_s = np.nan\n",
    "            for s_old in ss:\n",
    "                w[s_old,s_new,t] = v[s_old,t-1] + np.log(pss[s_old][s_new]) + np.log(pys[s_new][y[t]])\n",
    "                if w[s_old,s_new,t] > best: \n",
    "                    best = w[s_old,s_new,t]\n",
    "                    best_s = s_old\n",
    "            \n",
    "            B[s_new,t] = best_s\n",
    "            v[s_new,t] = w[best_s,s_new,t]\n",
    "    s_opt = np.full(N,np.nan).astype(int)\n",
    "    s_opt[t] = np.argmax(v[:,-1])\n",
    "    for t in range(N-2,-1,-1):\n",
    "        s_opt[t] = B[s_opt[t+1],t+1]\n",
    "    return s_opt\n",
    "VA(y,pys,pss)    "
   ]
  },
  {
   "cell_type": "markdown",
   "metadata": {},
   "source": [
    "## Recursive functions"
   ]
  },
  {
   "cell_type": "code",
   "execution_count": 250,
   "metadata": {},
   "outputs": [],
   "source": [
    "ss = [0,1]\n",
    "mus = [-1,1]\n",
    "stds = [1,0.7]\n",
    "p0s=[0.6,0.4]\n",
    "p00 = 0.8\n",
    "p11 = 0.9\n",
    "P = np.array([[p00,1-p00],[1-p11,p11]])"
   ]
  },
  {
   "cell_type": "code",
   "execution_count": 251,
   "metadata": {},
   "outputs": [],
   "source": [
    "def prob_within(x,mu,std):\n",
    "    return 2-2*norm.cdf(x,mu,std)\n",
    "\n",
    "def g(x,s,mus,stds):\n",
    "    return prob_within(x,mus[s],stds[s])\n",
    "\n",
    "def p(x,mus,stds):\n",
    "    return sum(g(x,s,mus,stds)*p0s[s] for s in ss)\n",
    "\n",
    "def F0(s0,x0,mus,stds):\n",
    "    return p0s[s0]*g(x0,s0,mus,stds)/p(x0,mus,stds)\n",
    "\n",
    "def q(s0,s1,P):\n",
    "    return P[s0,s1]\n",
    "\n",
    "def F_step(s0,s1,x0,mus,stds,P):\n",
    "    return sum(q(s0,s1,P)*F0(s0,x0,mus,stds) for s0 in ss)\n",
    "\n",
    "def p_x1_x0(x0,x1,s1,mus,stds,P):\n",
    "    return sum(g(x1,s,mus,stds)*F_step(s,s1,x0,mus,stds,P) for s in ss)"
   ]
  },
  {
   "cell_type": "code",
   "execution_count": 226,
   "metadata": {},
   "outputs": [
    {
     "name": "stderr",
     "output_type": "stream",
     "text": [
      "/home/fcelaya/quant/venv/lib/python3.7/site-packages/ipykernel_launcher.py:11: RuntimeWarning: invalid value encountered in double_scalars\n",
      "  # This is added back by InteractiveShellApp.init_path()\n"
     ]
    },
    {
     "data": {
      "text/plain": [
       "[<matplotlib.lines.Line2D at 0x7ff1dc826e50>]"
      ]
     },
     "execution_count": 226,
     "metadata": {},
     "output_type": "execute_result"
    },
    {
     "data": {
      "image/png": "[encoded data removed]",
      "text/plain": [
       "<Figure size 432x288 with 1 Axes>"
      ]
     },
     "metadata": {
      "needs_background": "light"
     },
     "output_type": "display_data"
    }
   ],
   "source": [
    "# Likelihood that state is certain state depending on observation value\n",
    "x_axis = np.arange(-10,10,0.1)\n",
    "fig,ax = plt.subplots()\n",
    "ax.plot(x_axis,[F0(0,i,mus,stds) for i in x_axis])\n",
    "ax.plot(x_axis,[F0(1,i,mus,stds) for i in x_axis])"
   ]
  },
  {
   "cell_type": "markdown",
   "metadata": {},
   "source": [
    "## MC methods"
   ]
  },
  {
   "cell_type": "code",
   "execution_count": 252,
   "metadata": {},
   "outputs": [],
   "source": [
    "np.random.seed(42)\n",
    "P = np.array([[0.6,0.15,0.25],[0.2,0.7,0.1],[0.0,0.2,0.8]])\n",
    "S = 3\n",
    "N = 100"
   ]
  },
  {
   "cell_type": "code",
   "execution_count": 234,
   "metadata": {},
   "outputs": [],
   "source": [
    "def create_chain(P,N,s0=0):\n",
    "    if P.shape[0] != P.shape[1]:\n",
    "        raise ValueError(\"Transition matrix must by of nxn size\")\n",
    "    else:\n",
    "        S = P.shape[0]\n",
    "    \n",
    "    s = np.zeros(N).astype(int)\n",
    "    s[0] = s0\n",
    "    for i in range(1,N):\n",
    "        probs = P[s[i-1]]\n",
    "        r = np.random.rand()\n",
    "        j = 0\n",
    "        while True:\n",
    "            if r < np.sum(probs[:j+1]):\n",
    "                s[i] = j\n",
    "                break\n",
    "            else:\n",
    "                j += 1\n",
    "    return s\n",
    "\n",
    "mc = create_chain(P,1000)"
   ]
  },
  {
   "cell_type": "code",
   "execution_count": 235,
   "metadata": {},
   "outputs": [],
   "source": [
    "def estimate_transition_matrix(x):\n",
    "    \"\"\"\n",
    "    Only accepts input state vector with states: 0, 1, 2, 3, etc.\n",
    "    \"\"\"\n",
    "    n = np.unique(x).size\n",
    "\n",
    "    P = np.array([np.zeros(n) for i in range(n)])\n",
    "\n",
    "    for i in range(1,x.shape[0]):\n",
    "        P[x[i-1],x[i]] += 1\n",
    "    \n",
    "    for i in range(n):\n",
    "        P[i] = P[i]/np.sum(P[i])\n",
    "\n",
    "    return P"
   ]
  },
  {
   "cell_type": "markdown",
   "metadata": {},
   "source": [
    "## Recursive parameter estimation"
   ]
  },
  {
   "cell_type": "code",
   "execution_count": 260,
   "metadata": {},
   "outputs": [],
   "source": [
    "# Create initial parameter guess\n",
    "P = np.array([[0.7,0.3],[0.3,0.7]])\n",
    "mu1 = 1\n",
    "mu0 = 0\n",
    "std1 = 1\n",
    "std0 = 0\n",
    "N = x.shape[0]"
   ]
  },
  {
   "cell_type": "code",
   "execution_count": 261,
   "metadata": {},
   "outputs": [
    {
     "name": "stdout",
     "output_type": "stream",
     "text": [
      "[[1.]]\n"
     ]
    }
   ],
   "source": [
    "# Create random initial state chain\n",
    "mc_states = create_chain(P,N,0)\n",
    "# Create sub chains for data in each state\n",
    "x_s0 = x[mc_states==0]\n",
    "x_s1 = x[mc_states==1]\n",
    "# Find parameters for each state\n",
    "d0 = norm.fit(x_s0)\n",
    "d1 = norm.fit(x_s1)\n",
    "# Estimate likelihood for each point being in a certain state\n",
    "def likelihood(x,s,d0,d1):\n",
    "    mus = [d0[0],d1[0]]\n",
    "    stds = [d0[1],d1[1]]\n",
    "    return F0(s,x,mus,stds)\n",
    "\n",
    "mc_states = np.zeros(N).astype(int)\n",
    "for i in range(N):\n",
    "    if likelihood(x[i],0,d0,d1) > likelihood(x[i],1,d0,d1):\n",
    "        mc_states[i] = 0\n",
    "    else:\n",
    "        mc_states[i] = 1\n",
    "\n",
    "P = estimate_transition_matrix(mc_states)\n",
    "print(P)"
   ]
  },
  {
   "cell_type": "code",
   "execution_count": 220,
   "metadata": {},
   "outputs": [
    {
     "data": {
      "text/plain": [
       "array([1, 1, 1, 1, 1, 1, 1, 1, 1, 1, 1, 1, 1, 1, 1, 1, 1, 1, 1, 1, 1, 1,\n",
       "       1, 1, 1, 1, 1, 1, 1, 1, 1, 1, 1, 1, 1, 1, 1, 1, 1, 1, 1, 1, 1, 1,\n",
       "       1, 1, 1, 1, 1, 1, 1, 1, 1, 1, 1, 1, 1, 1, 1, 1, 1, 1, 1, 1, 1, 1,\n",
       "       1, 1, 1, 1, 1, 1, 1, 1, 1, 1, 1, 1, 1, 1, 1, 1, 1, 1, 1, 1, 1, 1,\n",
       "       1, 1, 1, 1, 1, 1, 1, 1, 1, 1, 1, 1, 1, 1, 1, 1, 1, 1, 1, 1, 1, 1,\n",
       "       1, 1, 1, 1, 1, 1, 1, 1, 1, 1, 1, 1, 1, 1, 1, 1, 1, 1, 1, 1, 1, 1,\n",
       "       1, 1, 1, 1, 1, 1, 1, 1, 1, 1, 1, 1, 1, 1, 1, 1, 1, 1, 1, 1, 1, 1,\n",
       "       1, 1, 1, 1, 1, 1, 1, 1, 1, 1, 1, 1, 1, 1, 1, 1, 1, 1, 1, 1, 1, 1,\n",
       "       1, 1, 1, 1, 1, 1, 1, 1, 1, 1, 1, 1, 1, 1, 1, 1, 1, 1, 1, 1, 1, 1,\n",
       "       1, 1, 1, 1, 1, 1, 1, 1, 1, 1, 1, 1, 1, 1, 1, 1, 1, 1, 1, 1, 1, 1,\n",
       "       1, 1, 1, 1, 1, 1, 1, 1, 1, 1, 1, 1, 1, 1, 1, 1, 1, 1, 1, 1, 1, 1,\n",
       "       1, 1, 1, 1, 1, 1, 1, 1, 1, 1, 1, 1, 1, 1, 1, 1, 1, 1, 1, 1, 1, 1,\n",
       "       1, 1, 1, 1, 1, 1, 1, 1, 1, 1, 1, 1, 1, 1, 1, 1, 1, 1, 1, 1, 1, 1,\n",
       "       1, 1, 1, 1, 1, 1, 1, 1, 1, 1, 1, 1, 1, 1, 1, 1, 1, 1, 1, 1, 1, 1,\n",
       "       1, 1, 1, 1, 1, 1, 1, 1, 1, 1, 1, 1, 1, 1, 1, 1, 1, 1, 1, 1, 1, 1,\n",
       "       1, 1, 1, 1, 1, 1, 1, 1, 1, 1, 1, 1, 1, 1, 1, 1, 1, 1, 1, 1, 1, 1,\n",
       "       1, 1, 1, 1, 1, 1, 1, 1, 1, 1, 1, 1, 1, 1, 1, 1, 1, 1, 1, 1, 1, 1,\n",
       "       1, 1, 1, 1, 1, 1, 1, 1, 1, 1, 1, 1, 1, 1, 1, 1, 1, 1, 1, 1, 1, 1,\n",
       "       1, 1, 1, 1, 1, 1, 1, 1, 1, 1, 1, 1, 1, 1, 1, 1, 1, 1, 1, 1, 1, 1,\n",
       "       1, 1, 1, 1, 1, 1, 1, 1, 1, 1, 1, 1, 1, 1, 1, 1, 1, 1, 1, 1, 1, 1,\n",
       "       1, 1, 1, 1, 1, 1, 1, 1, 1, 1, 1, 1, 1, 1, 1, 1, 1, 1, 1, 1, 1, 1,\n",
       "       1, 1, 1, 1, 1, 1, 1, 1, 1, 1, 1, 1, 1, 1, 1, 1, 1, 1, 1, 1, 1, 1,\n",
       "       1, 1, 1, 1, 1, 1, 1, 1, 1, 1, 1, 1, 1, 1, 1, 1, 1, 1, 1, 1, 1, 1,\n",
       "       1, 1, 1, 1, 1, 1, 1, 1, 1, 1, 1, 1, 1, 1, 1, 1, 1, 1, 1, 1, 1, 1,\n",
       "       1, 1, 1, 1, 1, 1, 1, 1, 1, 1, 1, 1, 1, 1, 1, 1, 1, 1, 1, 1, 1, 1,\n",
       "       1, 1, 1, 1, 1, 1, 1, 1, 1, 1, 1, 1, 1, 1, 1, 1, 1, 1, 1, 1, 1, 1,\n",
       "       1, 1, 1, 1, 1, 1, 1, 1, 1, 1, 1, 1, 1, 1, 1, 1, 1, 1, 1, 1, 1, 1,\n",
       "       1, 1, 1, 1, 1, 1, 1, 1, 1, 1, 1, 1, 1, 1, 1, 1, 1, 1, 1, 1, 1, 1,\n",
       "       1, 1, 1, 1, 1, 1, 1, 1, 1, 1, 1, 1, 1, 1, 1, 1, 1, 1, 1, 1, 1, 1,\n",
       "       1, 1, 1, 1, 1, 1, 1, 1, 1, 1, 1, 1, 1, 1, 1, 1, 1, 1, 1, 1, 1, 1,\n",
       "       1, 1, 1, 1, 1, 1, 1, 1, 1, 1, 1, 1, 1, 1, 1, 1, 1, 1, 1, 1, 1, 1,\n",
       "       1, 1, 1, 1, 1, 1, 1, 1, 1, 1, 1, 1, 1, 1, 1, 1, 1, 1, 1, 1, 1, 1,\n",
       "       1, 1, 1, 1, 1, 1, 1, 1, 1, 1, 1, 1, 1, 1, 1, 1, 1, 1, 1, 1, 1, 1,\n",
       "       1, 1, 1, 1, 1, 1, 1, 1, 1, 1, 1, 1, 1, 1, 1, 1, 1, 1, 1, 1, 1, 1,\n",
       "       1, 1, 1, 1, 1, 1, 1, 1, 1, 1, 1, 1, 1, 1, 1, 1, 1, 1, 1, 1, 1, 1,\n",
       "       1, 1, 1, 1, 1, 1, 1, 1, 1, 1, 1, 1, 1, 1, 1, 1, 1, 1, 1, 1, 1, 1,\n",
       "       1, 1, 1, 1, 1, 1, 1, 1, 1, 1, 1, 1, 1, 1, 1, 1, 1, 1, 1, 1, 1, 1,\n",
       "       1, 1, 1, 1, 1, 1, 1, 1, 1, 1, 1, 1, 1, 1, 1, 1, 1, 1, 1, 1, 1, 1,\n",
       "       1, 1, 1, 1, 1, 1, 1, 1, 1, 1, 1, 1, 1, 1, 1, 1, 1, 1, 1, 1, 1, 1,\n",
       "       1, 1, 1, 1, 1, 1, 1, 1, 1, 1, 1, 1, 1, 1, 1, 1, 1, 1, 1, 1, 1, 1,\n",
       "       1, 1, 1, 1, 1, 1, 1, 1, 1, 1, 1, 1, 1, 1, 1, 1, 1, 1, 1, 1, 1, 1,\n",
       "       1, 1, 1, 1, 1, 1, 1, 1, 1, 1, 1, 1, 1, 1, 1, 1, 1, 1, 1, 1, 1, 1,\n",
       "       1, 1, 1, 1, 1, 1, 1, 1, 1, 1, 1, 1, 1, 1, 1, 1, 1, 1, 1, 1, 1, 1,\n",
       "       1, 1, 1, 1, 1, 1, 1, 1, 1, 1, 1, 1, 1, 1, 1, 1, 1, 1, 1, 1, 1, 1,\n",
       "       1, 1, 1, 1, 1, 1, 1, 1, 1, 1, 1, 1, 1, 1, 1, 1, 1, 1, 1, 1, 1, 1,\n",
       "       1, 1, 1, 1, 1, 1, 1, 1, 1, 1])"
      ]
     },
     "execution_count": 220,
     "metadata": {},
     "output_type": "execute_result"
    }
   ],
   "source": [
    "mc_states"
   ]
  },
  {
   "cell_type": "code",
   "execution_count": 192,
   "metadata": {},
   "outputs": [
    {
     "data": {
      "text/plain": [
       "0.4157295514763035"
      ]
     },
     "execution_count": 192,
     "metadata": {},
     "output_type": "execute_result"
    }
   ],
   "source": [
    "likelihood(1,d1)"
   ]
  },
  {
   "cell_type": "code",
   "execution_count": null,
   "metadata": {},
   "outputs": [],
   "source": []
  }
 ],
 "metadata": {
  "kernelspec": {
   "display_name": "Python 3.7.13 ('venv': venv)",
   "language": "python",
   "name": "python3"
  },
  "language_info": {
   "codemirror_mode": {
    "name": "ipython",
    "version": 3
   },
   "file_extension": ".py",
   "mimetype": "text/x-python",
   "name": "python",
   "nbconvert_exporter": "python",
   "pygments_lexer": "ipython3",
   "version": "3.7.13"
  },
  "orig_nbformat": 4,
  "vscode": {
   "interpreter": {
    "hash": "cc24fe91b9ab0d18ea06345234974b11346273ad6afbdadd1241ef1b29f2af51"
   }
  }
 },
 "nbformat": 4,
 "nbformat_minor": 2
}
