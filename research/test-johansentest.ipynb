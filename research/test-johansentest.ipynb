{
 "cells": [
  {
   "cell_type": "code",
   "execution_count": 2,
   "metadata": {},
   "outputs": [],
   "source": [
    "import pandas as pd\n",
    "import numpy as np\n",
    "import matplotlib.pyplot as plt\n",
    "import sys, os\n",
    "\n",
    "# se supone que estan en la misma carpeta de research osea que no hace falta cambiar el directorio\n",
    "from mystatistics.mystatistics import johansen_test"
   ]
  },
  {
   "cell_type": "code",
   "execution_count": 3,
   "metadata": {},
   "outputs": [],
   "source": [
    "datapath='../data/european/daily/abn.csv'\n",
    "df1 = pd.read_csv(datapath)\n",
    "\n",
    "datapath='../data/european/daily/aex.csv'\n",
    "df2 = pd.read_csv(datapath)\n"
   ]
  },
  {
   "cell_type": "code",
   "execution_count": 4,
   "metadata": {},
   "outputs": [
    {
     "name": "stdout",
     "output_type": "stream",
     "text": [
      "(255, 8)\n",
      "(255, 8)\n",
      "         date       open       high        low      close   volume  dividend  \\\n",
      "0  2017-01-02  21.100000  21.295000  20.945000  21.275000   407919         0   \n",
      "1  2017-01-03  21.334999  22.070000  21.334999  21.950001  1453872         0   \n",
      "2  2017-01-04  21.990000  22.135000  21.934999  22.125000  1169976         0   \n",
      "3  2017-01-05  22.115000  22.280001  22.000000  22.125000  1102774         0   \n",
      "4  2017-01-06  22.100000  22.250000  22.045000  22.230000   766804         0   \n",
      "\n",
      "   split  \n",
      "0      1  \n",
      "1      1  \n",
      "2      1  \n",
      "3      1  \n",
      "4      1  \n",
      "         date        open        high         low       close    volume  \\\n",
      "0  2017-01-02  481.160004  487.100006  481.010010  486.369995  35770100   \n",
      "1  2017-01-03  488.070007  489.910004  487.309998  487.989990  79701500   \n",
      "2  2017-01-04  489.679993  489.679993  486.510010  487.579987  81563200   \n",
      "3  2017-01-05  486.500000  488.320007  485.779999  486.929993  81001600   \n",
      "4  2017-01-06  486.589996  487.339996  485.059998  487.000000  57369100   \n",
      "\n",
      "   dividend  split  \n",
      "0         0      1  \n",
      "1         0      1  \n",
      "2         0      1  \n",
      "3         0      1  \n",
      "4         0      1  \n"
     ]
    }
   ],
   "source": [
    "# Función que se queda solo con los valores de las series temporales que coinciden en el tiempo\n",
    "print(df1.shape)\n",
    "print(df2.shape)\n",
    "\n",
    "print(df1.head())\n",
    "print(df2.head())\n"
   ]
  },
  {
   "cell_type": "code",
   "execution_count": 5,
   "metadata": {},
   "outputs": [
    {
     "name": "stdout",
     "output_type": "stream",
     "text": [
      "(255, 16)\n",
      "       date_x     open_x     high_x      low_x    close_x  volume_x  \\\n",
      "0  2017-01-02  21.100000  21.295000  20.945000  21.275000    407919   \n",
      "1  2017-01-03  21.334999  22.070000  21.334999  21.950001   1453872   \n",
      "2  2017-01-04  21.990000  22.135000  21.934999  22.125000   1169976   \n",
      "3  2017-01-05  22.115000  22.280001  22.000000  22.125000   1102774   \n",
      "4  2017-01-06  22.100000  22.250000  22.045000  22.230000    766804   \n",
      "\n",
      "   dividend_x  split_x      date_y      open_y      high_y       low_y  \\\n",
      "0           0        1  2017-01-02  481.160004  487.100006  481.010010   \n",
      "1           0        1  2017-01-03  488.070007  489.910004  487.309998   \n",
      "2           0        1  2017-01-04  489.679993  489.679993  486.510010   \n",
      "3           0        1  2017-01-05  486.500000  488.320007  485.779999   \n",
      "4           0        1  2017-01-06  486.589996  487.339996  485.059998   \n",
      "\n",
      "      close_y  volume_y  dividend_y  split_y  \n",
      "0  486.369995  35770100           0        1  \n",
      "1  487.989990  79701500           0        1  \n",
      "2  487.579987  81563200           0        1  \n",
      "3  486.929993  81001600           0        1  \n",
      "4  487.000000  57369100           0        1  \n"
     ]
    }
   ],
   "source": [
    "# mergeamos y comprobamos el merge\n",
    "merge = pd.merge(df1,df2, how='inner', left_index=True, right_index=True)\n",
    "print(merge.shape)\n",
    "print(merge.head())"
   ]
  },
  {
   "cell_type": "code",
   "execution_count": 6,
   "metadata": {},
   "outputs": [],
   "source": [
    "# nos quedamos solo con el close de cada time series\n",
    "\n",
    "ts = merge[['close_x', 'close_y']]\n",
    "ts = np.array(ts)"
   ]
  },
  {
   "cell_type": "code",
   "execution_count": 7,
   "metadata": {},
   "outputs": [],
   "source": [
    "# probamos johansen test\n",
    "\n",
    "p = 1 # lag\n",
    "johansen_result = johansen_test(ts, p)"
   ]
  },
  {
   "cell_type": "code",
   "execution_count": 8,
   "metadata": {},
   "outputs": [
    {
     "name": "stdout",
     "output_type": "stream",
     "text": [
      "<statsmodels.tsa.vector_ar.vecm.JohansenTestResult object at 0x7f1a168f4d90>\n",
      "[[12.2971 14.2639 18.52  ]\n",
      " [ 2.7055  3.8415  6.6349]]\n",
      "[[13.4294 15.4943 19.9349]\n",
      " [ 2.7055  3.8415  6.6349]]\n",
      "[0.03463013 0.00604148]\n",
      "[[ 1.39141426 -0.47847861]\n",
      " [-0.10793412 -0.01783432]]\n",
      "[10.44985578  1.53313115]\n",
      "[8.91672464 1.53313115]\n"
     ]
    }
   ],
   "source": [
    "# analizamos el objeto creado por statsmodels\n",
    "\n",
    "print(johansen_result)\n",
    "print(johansen_result.cvm)\n",
    "print(johansen_result.cvt)\n",
    "print(johansen_result.eig)\n",
    "print(johansen_result.evec)\n",
    "print(johansen_result.lr1)\n",
    "print(johansen_result.lr2)\n"
   ]
  },
  {
   "cell_type": "code",
   "execution_count": 18,
   "metadata": {},
   "outputs": [
    {
     "name": "stdout",
     "output_type": "stream",
     "text": [
      "[0.03463013 0.00604148]\n",
      "[[ 1.39141426 -0.47847861]\n",
      " [-0.10793412 -0.01783432]]\n"
     ]
    }
   ],
   "source": [
    "# una vez hemos comprobado que las series temporales cointegran vamos a generar una nueva serie temporal combinandolas que sea mean reverting\n",
    "# para ello debemos coger los eigen vectors generados por coint_johansen\n",
    "# vamos a ver que tenemos 2 eigen values con sus eigen vectors aociados\n",
    "# deberemos escoger los evec asociados al mayor eig\n",
    "print(johansen_result.eig)\n",
    "print(johansen_result.evec)\n",
    "\n",
    "ponderaciones = johansen_result.evec[0]\n",
    "\n",
    "mr_ts = ts[:,0]*ponderaciones[0] + ts[:,1]*ponderaciones[1]\n",
    "\n"
   ]
  },
  {
   "cell_type": "code",
   "execution_count": 17,
   "metadata": {},
   "outputs": [
    {
     "data": {
      "text/plain": [
       "[<matplotlib.lines.Line2D at 0x7f1a143649d0>]"
      ]
     },
     "execution_count": 17,
     "metadata": {},
     "output_type": "execute_result"
    },
    {
     "data": {
      "image/png": "[encoded data removed]",
      "text/plain": [
       "<Figure size 640x480 with 1 Axes>"
      ]
     },
     "metadata": {},
     "output_type": "display_data"
    }
   ],
   "source": [
    "plt.plot(mr_ts)\n",
    "plt.plot(ts[:,0])\n",
    "plt.plot(ts[:,1])\n"
   ]
  },
  {
   "cell_type": "code",
   "execution_count": null,
   "metadata": {},
   "outputs": [],
   "source": []
  },
  {
   "cell_type": "code",
   "execution_count": null,
   "metadata": {},
   "outputs": [],
   "source": []
  }
 ],
 "metadata": {
  "kernelspec": {
   "display_name": "Python 3.7.14 ('venv': venv)",
   "language": "python",
   "name": "python3"
  },
  "language_info": {
   "codemirror_mode": {
    "name": "ipython",
    "version": 3
   },
   "file_extension": ".py",
   "mimetype": "text/x-python",
   "name": "python",
   "nbconvert_exporter": "python",
   "pygments_lexer": "ipython3",
   "version": "3.7.14"
  },
  "orig_nbformat": 4,
  "vscode": {
   "interpreter": {
    "hash": "482fab8dd0c87b3b372662945efe7fa20dff6d8a1a8dc9075e04f51009ae7683"
   }
  }
 },
 "nbformat": 4,
 "nbformat_minor": 2
}
