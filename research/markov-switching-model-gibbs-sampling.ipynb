{
 "cells": [
  {
   "cell_type": "markdown",
   "metadata": {},
   "source": [
    "## Markov Switching Model from scratch\n",
    "\n",
    "For references check:\n",
    "- https://www.stat.cmu.edu/~cshalizi/dst/18/lectures/24/lecture-24.html"
   ]
  },
  {
   "cell_type": "code",
   "execution_count": 11,
   "metadata": {},
   "outputs": [],
   "source": [
    "import pandas as pd\n",
    "import numpy as np\n",
    "import matplotlib.pyplot as plt\n",
    "from statsmodels.tsa.stattools import adfuller, kpss"
   ]
  },
  {
   "cell_type": "code",
   "execution_count": 2,
   "metadata": {},
   "outputs": [
    {
     "data": {
      "text/plain": [
       "date\n",
       "2017-08-01    0.006701\n",
       "2017-08-02    0.004678\n",
       "2017-08-03    0.003952\n",
       "2017-08-04    0.000000\n",
       "2017-08-07    0.003235\n",
       "Name: adj close, dtype: float64"
      ]
     },
     "execution_count": 2,
     "metadata": {},
     "output_type": "execute_result"
    },
    {
     "data": {
      "image/png": "[encoded data removed]",
      "text/plain": [
       "<Figure size 432x288 with 1 Axes>"
      ]
     },
     "metadata": {
      "needs_background": "light"
     },
     "output_type": "display_data"
    }
   ],
   "source": [
    "datafile = \"../data/daily/stocks/nyse/ABBV.csv\"\n",
    "df = pd.read_csv(datafile)\n",
    "df.index = pd.to_datetime(df.date)\n",
    "p = df[\"adj close\"]\n",
    "r = p.pct_change()\n",
    "r = r.dropna()\n",
    "lr = np.log(r+1)\n",
    "plt.plot(p)\n",
    "lr.head()"
   ]
  },
  {
   "cell_type": "code",
   "execution_count": 13,
   "metadata": {},
   "outputs": [
    {
     "name": "stdout",
     "output_type": "stream",
     "text": [
      "The null hypothesis of there being a unit root is rejected with p-value = 1.1109684783836602e-12 with the Dickey-Fuller Test\n",
      "The null hypothesis of the series being trend or level stationary cannot be rejected with a p-value >= 0.1 with the Kwiatkowski-Phillips-Schmidt-Shin test\n"
     ]
    },
    {
     "name": "stderr",
     "output_type": "stream",
     "text": [
      "/home/fcelaya/quant/venv/lib/python3.7/site-packages/statsmodels/tsa/stattools.py:2023: InterpolationWarning: The test statistic is outside of the range of p-values available in the\n",
      "look-up table. The actual p-value is greater than the p-value returned.\n",
      "\n",
      "  warn_msg.format(direction=\"greater\"), InterpolationWarning\n"
     ]
    }
   ],
   "source": [
    "adf = adfuller(lr)\n",
    "print(\"The null hypothesis of there being a unit root is rejected with p-value =\",adf[1],\"with the Dickey-Fuller Test\")\n",
    "k = kpss(lr)\n",
    "print(\"The null hypothesis of the series being trend or level stationary cannot be rejected with a p-value >=\",k[1],\"with the Kwiatkowski-Phillips-Schmidt-Shin test\")"
   ]
  },
  {
   "cell_type": "code",
   "execution_count": null,
   "metadata": {},
   "outputs": [],
   "source": []
  },
  {
   "cell_type": "code",
   "execution_count": null,
   "metadata": {},
   "outputs": [],
   "source": []
  }
 ],
 "metadata": {
  "kernelspec": {
   "display_name": "Python 3.7.13 ('venv': venv)",
   "language": "python",
   "name": "python3"
  },
  "language_info": {
   "codemirror_mode": {
    "name": "ipython",
    "version": 3
   },
   "file_extension": ".py",
   "mimetype": "text/x-python",
   "name": "python",
   "nbconvert_exporter": "python",
   "pygments_lexer": "ipython3",
   "version": "3.7.13"
  },
  "orig_nbformat": 4,
  "vscode": {
   "interpreter": {
    "hash": "cc24fe91b9ab0d18ea06345234974b11346273ad6afbdadd1241ef1b29f2af51"
   }
  }
 },
 "nbformat": 4,
 "nbformat_minor": 2
}
