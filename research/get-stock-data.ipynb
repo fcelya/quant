{
 "cells": [
  {
   "cell_type": "code",
   "execution_count": 5,
   "metadata": {},
   "outputs": [],
   "source": [
    "import yfinance as yf\n",
    "import pandas as pd\n",
    "import requests\n",
    "import os\n",
    "import os.path\n",
    "\n",
    "sys.path.append(\"../\")\n",
    "from utils.basic import get_stock_data"
   ]
  },
  {
   "cell_type": "code",
   "execution_count": null,
   "metadata": {},
   "outputs": [],
   "source": [
    "sp = pd.read_csv(\"../data/tickers/sp500.csv\")\n",
    "splist = sp[\"Symbol\"].to_list()\n",
    "nyse = pd.read_csv(\"../data/tickers/nyse.csv\")\n",
    "nyselist = nyse[\"ACT Symbol\"]\n",
    "\n",
    "nyselist = [c.lower() for c in nyselist]\n",
    "splist = [c.lower() for c in splist]\n",
    "\n",
    "combinedlist = [c for c in splist if c in nyselist]\n",
    "print(len(combinedlist))"
   ]
  },
  {
   "cell_type": "code",
   "execution_count": null,
   "metadata": {},
   "outputs": [],
   "source": [
    "data = get_stock_data(tickers=combinedlist,path=\"../data/stocks/nyse\", period = \"5y\")"
   ]
  },
  {
   "cell_type": "code",
   "execution_count": null,
   "metadata": {},
   "outputs": [],
   "source": [
    "path_name = './data/us/' + string()\n",
    "df.to_csv(r'./data/us/', index = False, header = True)"
   ]
  }
 ],
 "metadata": {
  "kernelspec": {
   "display_name": "Python 3.7.14 ('venv': venv)",
   "language": "python",
   "name": "python3"
  },
  "language_info": {
   "codemirror_mode": {
    "name": "ipython",
    "version": 3
   },
   "file_extension": ".py",
   "mimetype": "text/x-python",
   "name": "python",
   "nbconvert_exporter": "python",
   "pygments_lexer": "ipython3",
   "version": "3.7.14"
  },
  "orig_nbformat": 4,
  "vscode": {
   "interpreter": {
    "hash": "482fab8dd0c87b3b372662945efe7fa20dff6d8a1a8dc9075e04f51009ae7683"
   }
  }
 },
 "nbformat": 4,
 "nbformat_minor": 2
}
