{
 "cells": [
  {
   "cell_type": "code",
   "execution_count": 2,
   "metadata": {},
   "outputs": [],
   "source": [
    "from email import utils\n",
    "import yfinance as yf\n",
    "import pandas as pd\n",
    "import requests\n",
    "import os\n",
    "import os.path\n",
    "\n",
    "sys.path.append(\"../\")\n",
    "from utils.basic import get_stock_data"
   ]
  },
  {
   "cell_type": "code",
   "execution_count": 12,
   "metadata": {},
   "outputs": [
    {
     "name": "stdout",
     "output_type": "stream",
     "text": [
      "[*********************100%***********************]  1 of 1 completed\n",
      "[*********************100%***********************]  1 of 1 completed\n"
     ]
    }
   ],
   "source": [
    "# Only Saying Period\n",
    "get_stock_data(tickers=['EWA'], path=\"../data/\", period = \"5y\")\n",
    "get_stock_data(tickers=['EWC'], path=\"../data/\", period = \"5y\")"
   ]
  },
  {
   "cell_type": "code",
   "execution_count": 16,
   "metadata": {},
   "outputs": [
    {
     "name": "stdout",
     "output_type": "stream",
     "text": [
      "[*********************100%***********************]  1 of 1 completed\n",
      "[*********************100%***********************]  1 of 1 completed\n"
     ]
    }
   ],
   "source": [
    "# Beginning and End Date\n",
    "get_stock_data(tickers=['EWA'], path=\"../data/\", date_start='2006-04-26', date_end='2012-04-09')\n",
    "get_stock_data(tickers=['EWC'], path=\"../data/\", date_start='2006-04-26', date_end='2012-04-09')\n"
   ]
  },
  {
   "cell_type": "code",
   "execution_count": null,
   "metadata": {},
   "outputs": [],
   "source": []
  }
 ],
 "metadata": {
  "kernelspec": {
   "display_name": "Python 3.7.14 ('venv': venv)",
   "language": "python",
   "name": "python3"
  },
  "language_info": {
   "codemirror_mode": {
    "name": "ipython",
    "version": 3
   },
   "file_extension": ".py",
   "mimetype": "text/x-python",
   "name": "python",
   "nbconvert_exporter": "python",
   "pygments_lexer": "ipython3",
   "version": "3.7.14"
  },
  "orig_nbformat": 4,
  "vscode": {
   "interpreter": {
    "hash": "482fab8dd0c87b3b372662945efe7fa20dff6d8a1a8dc9075e04f51009ae7683"
   }
  }
 },
 "nbformat": 4,
 "nbformat_minor": 2
}
