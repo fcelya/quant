{
 "cells": [
  {
   "cell_type": "code",
   "execution_count": 87,
   "metadata": {},
   "outputs": [],
   "source": [
    "import pandas as pd\n",
    "import numpy as np\n",
    "import datetime\n",
    "import matplotlib.pyplot as plt\n",
    "from statsmodels.graphics.tsaplots import plot_acf\n",
    "from statsmodels.tsa.arima.model import ARIMA\n",
    "from sklearn.metrics import r2_score"
   ]
  },
  {
   "cell_type": "markdown",
   "metadata": {},
   "source": [
    "## AR Model"
   ]
  },
  {
   "cell_type": "code",
   "execution_count": 20,
   "metadata": {},
   "outputs": [
    {
     "data": {
      "text/html": [
       "<div>\n",
       "<style scoped>\n",
       "    .dataframe tbody tr th:only-of-type {\n",
       "        vertical-align: middle;\n",
       "    }\n",
       "\n",
       "    .dataframe tbody tr th {\n",
       "        vertical-align: top;\n",
       "    }\n",
       "\n",
       "    .dataframe thead th {\n",
       "        text-align: right;\n",
       "    }\n",
       "</style>\n",
       "<table border=\"1\" class=\"dataframe\">\n",
       "  <thead>\n",
       "    <tr style=\"text-align: right;\">\n",
       "      <th></th>\n",
       "      <th>date</th>\n",
       "      <th>open</th>\n",
       "      <th>high</th>\n",
       "      <th>low</th>\n",
       "      <th>close</th>\n",
       "      <th>adj close</th>\n",
       "      <th>volume</th>\n",
       "    </tr>\n",
       "    <tr>\n",
       "      <th>date</th>\n",
       "      <th></th>\n",
       "      <th></th>\n",
       "      <th></th>\n",
       "      <th></th>\n",
       "      <th></th>\n",
       "      <th></th>\n",
       "      <th></th>\n",
       "    </tr>\n",
       "  </thead>\n",
       "  <tbody>\n",
       "    <tr>\n",
       "      <th>2017-07-31</th>\n",
       "      <td>2017-07-31</td>\n",
       "      <td>70.519997</td>\n",
       "      <td>70.580002</td>\n",
       "      <td>69.830002</td>\n",
       "      <td>69.910004</td>\n",
       "      <td>55.601021</td>\n",
       "      <td>7770400</td>\n",
       "    </tr>\n",
       "    <tr>\n",
       "      <th>2017-08-01</th>\n",
       "      <td>2017-08-01</td>\n",
       "      <td>70.029999</td>\n",
       "      <td>70.839996</td>\n",
       "      <td>69.849998</td>\n",
       "      <td>70.379997</td>\n",
       "      <td>55.974831</td>\n",
       "      <td>6681700</td>\n",
       "    </tr>\n",
       "    <tr>\n",
       "      <th>2017-08-02</th>\n",
       "      <td>2017-08-02</td>\n",
       "      <td>70.250000</td>\n",
       "      <td>70.739998</td>\n",
       "      <td>69.930000</td>\n",
       "      <td>70.709999</td>\n",
       "      <td>56.237282</td>\n",
       "      <td>4922200</td>\n",
       "    </tr>\n",
       "    <tr>\n",
       "      <th>2017-08-03</th>\n",
       "      <td>2017-08-03</td>\n",
       "      <td>70.610001</td>\n",
       "      <td>71.010002</td>\n",
       "      <td>70.360001</td>\n",
       "      <td>70.989998</td>\n",
       "      <td>56.459969</td>\n",
       "      <td>4400400</td>\n",
       "    </tr>\n",
       "    <tr>\n",
       "      <th>2017-08-04</th>\n",
       "      <td>2017-08-04</td>\n",
       "      <td>71.169998</td>\n",
       "      <td>71.370003</td>\n",
       "      <td>70.349998</td>\n",
       "      <td>70.989998</td>\n",
       "      <td>56.459969</td>\n",
       "      <td>4732500</td>\n",
       "    </tr>\n",
       "  </tbody>\n",
       "</table>\n",
       "</div>"
      ],
      "text/plain": [
       "                  date       open       high        low      close  adj close  \\\n",
       "date                                                                            \n",
       "2017-07-31  2017-07-31  70.519997  70.580002  69.830002  69.910004  55.601021   \n",
       "2017-08-01  2017-08-01  70.029999  70.839996  69.849998  70.379997  55.974831   \n",
       "2017-08-02  2017-08-02  70.250000  70.739998  69.930000  70.709999  56.237282   \n",
       "2017-08-03  2017-08-03  70.610001  71.010002  70.360001  70.989998  56.459969   \n",
       "2017-08-04  2017-08-04  71.169998  71.370003  70.349998  70.989998  56.459969   \n",
       "\n",
       "             volume  \n",
       "date                 \n",
       "2017-07-31  7770400  \n",
       "2017-08-01  6681700  \n",
       "2017-08-02  4922200  \n",
       "2017-08-03  4400400  \n",
       "2017-08-04  4732500  "
      ]
     },
     "execution_count": 20,
     "metadata": {},
     "output_type": "execute_result"
    }
   ],
   "source": [
    "datafile = \"../data/daily/stocks/nyse/ABBV.csv\"\n",
    "df = pd.read_csv(datafile)\n",
    "df.index = pd.to_datetime(df.date)\n",
    "df.head()"
   ]
  },
  {
   "cell_type": "code",
   "execution_count": 21,
   "metadata": {},
   "outputs": [
    {
     "data": {
      "text/plain": [
       "date\n",
       "2017-08-01    0.006701\n",
       "2017-08-02    0.004678\n",
       "2017-08-03    0.003952\n",
       "2017-08-04    0.000000\n",
       "2017-08-07    0.003235\n",
       "Name: adj close, dtype: float64"
      ]
     },
     "execution_count": 21,
     "metadata": {},
     "output_type": "execute_result"
    }
   ],
   "source": [
    "p = df[\"adj close\"]\n",
    "r = p.pct_change()\n",
    "r = r.dropna()\n",
    "lr = np.log(r+1)\n",
    "lr.head()"
   ]
  },
  {
   "cell_type": "code",
   "execution_count": 22,
   "metadata": {},
   "outputs": [
    {
     "data": {
      "image/png": "[encoded data removed]",
      "text/plain": [
       "<Figure size 432x288 with 1 Axes>"
      ]
     },
     "execution_count": 22,
     "metadata": {},
     "output_type": "execute_result"
    },
    {
     "data": {
      "image/png": "[encoded data removed]",
      "text/plain": [
       "<Figure size 432x288 with 1 Axes>"
      ]
     },
     "metadata": {
      "needs_background": "light"
     },
     "output_type": "display_data"
    }
   ],
   "source": [
    "plot_acf(lr)"
   ]
  },
  {
   "cell_type": "markdown",
   "metadata": {},
   "source": [
    "We observe significant autocorrelation at lag=7 and 10, we will try an AR(10) model"
   ]
  },
  {
   "cell_type": "code",
   "execution_count": 27,
   "metadata": {},
   "outputs": [
    {
     "name": "stderr",
     "output_type": "stream",
     "text": [
      "/home/fcelaya/quant/venv/lib/python3.7/site-packages/statsmodels/tsa/base/tsa_model.py:471: ValueWarning: A date index has been provided, but it has no associated frequency information and so will be ignored when e.g. forecasting.\n",
      "  self._init_dates(dates, freq)\n",
      "/home/fcelaya/quant/venv/lib/python3.7/site-packages/statsmodels/tsa/base/tsa_model.py:471: ValueWarning: A date index has been provided, but it has no associated frequency information and so will be ignored when e.g. forecasting.\n",
      "  self._init_dates(dates, freq)\n",
      "/home/fcelaya/quant/venv/lib/python3.7/site-packages/statsmodels/tsa/base/tsa_model.py:471: ValueWarning: A date index has been provided, but it has no associated frequency information and so will be ignored when e.g. forecasting.\n",
      "  self._init_dates(dates, freq)\n"
     ]
    },
    {
     "name": "stdout",
     "output_type": "stream",
     "text": [
      "                               SARIMAX Results                                \n",
      "==============================================================================\n",
      "Dep. Variable:              adj close   No. Observations:                 1258\n",
      "Model:                ARIMA(10, 0, 0)   Log Likelihood                3274.363\n",
      "Date:                Tue, 16 Aug 2022   AIC                          -6524.726\n",
      "Time:                        16:58:46   BIC                          -6463.078\n",
      "Sample:                             0   HQIC                         -6501.558\n",
      "                               - 1258                                         \n",
      "Covariance Type:                  opg                                         \n",
      "==============================================================================\n",
      "                 coef    std err          z      P>|z|      [0.025      0.975]\n",
      "------------------------------------------------------------------------------\n",
      "const          0.0007      0.001      1.397      0.162      -0.000       0.002\n",
      "ar.L1          0.0223      0.021      1.056      0.291      -0.019       0.064\n",
      "ar.L2          0.0048      0.021      0.232      0.817      -0.036       0.045\n",
      "ar.L3          0.0174      0.021      0.816      0.414      -0.024       0.059\n",
      "ar.L4         -0.0199      0.024     -0.842      0.400      -0.066       0.026\n",
      "ar.L5          0.0073      0.023      0.316      0.752      -0.038       0.052\n",
      "ar.L6         -0.0725      0.022     -3.271      0.001      -0.116      -0.029\n",
      "ar.L7          0.1125      0.027      4.180      0.000       0.060       0.165\n",
      "ar.L8         -0.0466      0.022     -2.079      0.038      -0.091      -0.003\n",
      "ar.L9          0.0489      0.026      1.877      0.061      -0.002       0.100\n",
      "ar.L10        -0.1004      0.024     -4.136      0.000      -0.148      -0.053\n",
      "sigma2         0.0003   4.93e-06     65.114      0.000       0.000       0.000\n",
      "===================================================================================\n",
      "Ljung-Box (L1) (Q):                   0.01   Jarque-Bera (JB):             12820.98\n",
      "Prob(Q):                              0.93   Prob(JB):                         0.00\n",
      "Heteroskedasticity (H):               0.48   Skew:                            -1.24\n",
      "Prob(H) (two-sided):                  0.00   Kurtosis:                        18.44\n",
      "===================================================================================\n",
      "\n",
      "Warnings:\n",
      "[1] Covariance matrix calculated using the outer product of gradients (complex-step).\n"
     ]
    }
   ],
   "source": [
    "mod = ARIMA(lr,order=(10,0,0))\n",
    "res = mod.fit() \n",
    "print(res.summary())"
   ]
  },
  {
   "cell_type": "markdown",
   "metadata": {},
   "source": [
    "We observe significance at the 5% level for lag = 6,7,8,10. We create a new definitive model with just those lags\n",
    "\n",
    "For a more refined process, use the PACF or AIC criterions to decide what lag order to choose."
   ]
  },
  {
   "cell_type": "code",
   "execution_count": 29,
   "metadata": {},
   "outputs": [
    {
     "name": "stderr",
     "output_type": "stream",
     "text": [
      "/home/fcelaya/quant/venv/lib/python3.7/site-packages/statsmodels/tsa/base/tsa_model.py:471: ValueWarning: A date index has been provided, but it has no associated frequency information and so will be ignored when e.g. forecasting.\n",
      "  self._init_dates(dates, freq)\n",
      "/home/fcelaya/quant/venv/lib/python3.7/site-packages/statsmodels/tsa/base/tsa_model.py:471: ValueWarning: A date index has been provided, but it has no associated frequency information and so will be ignored when e.g. forecasting.\n",
      "  self._init_dates(dates, freq)\n",
      "/home/fcelaya/quant/venv/lib/python3.7/site-packages/statsmodels/tsa/base/tsa_model.py:471: ValueWarning: A date index has been provided, but it has no associated frequency information and so will be ignored when e.g. forecasting.\n",
      "  self._init_dates(dates, freq)\n"
     ]
    },
    {
     "name": "stdout",
     "output_type": "stream",
     "text": [
      "                                   SARIMAX Results                                    \n",
      "======================================================================================\n",
      "Dep. Variable:                      adj close   No. Observations:                 1258\n",
      "Model:             ARIMA([6, 7, 8, 10], 0, 0)   Log Likelihood                3272.173\n",
      "Date:                        Tue, 16 Aug 2022   AIC                          -6532.346\n",
      "Time:                                17:00:33   BIC                          -6501.522\n",
      "Sample:                                     0   HQIC                         -6520.762\n",
      "                                       - 1258                                         \n",
      "Covariance Type:                          opg                                         \n",
      "==============================================================================\n",
      "                 coef    std err          z      P>|z|      [0.025      0.975]\n",
      "------------------------------------------------------------------------------\n",
      "const          0.0007      0.000      1.535      0.125      -0.000       0.002\n",
      "ar.L6         -0.0726      0.021     -3.380      0.001      -0.115      -0.031\n",
      "ar.L7          0.1118      0.027      4.178      0.000       0.059       0.164\n",
      "ar.L8         -0.0442      0.020     -2.220      0.026      -0.083      -0.005\n",
      "ar.L10        -0.0963      0.024     -4.035      0.000      -0.143      -0.050\n",
      "sigma2         0.0003   4.82e-06     66.872      0.000       0.000       0.000\n",
      "===================================================================================\n",
      "Ljung-Box (L1) (Q):                   0.48   Jarque-Bera (JB):             12725.98\n",
      "Prob(Q):                              0.49   Prob(JB):                         0.00\n",
      "Heteroskedasticity (H):               0.48   Skew:                            -1.23\n",
      "Prob(H) (two-sided):                  0.00   Kurtosis:                        18.39\n",
      "===================================================================================\n",
      "\n",
      "Warnings:\n",
      "[1] Covariance matrix calculated using the outer product of gradients (complex-step).\n"
     ]
    }
   ],
   "source": [
    "mod2 = ARIMA(lr,order=([6,7,8,10],0,0))\n",
    "res2 = mod2.fit() \n",
    "print(res2.summary())"
   ]
  },
  {
   "cell_type": "markdown",
   "metadata": {},
   "source": [
    "If the model is adequate, the residual series should behave as a white noise series. To check the resemblence of the residuals to white noise, the ACF of the residuals or the Ljung-Box statistics can be used. \n",
    "\n",
    "The Ljung-Box statistic does not reject the hypothesis that the residual series is white noise at any significance level, so the model is adequate. "
   ]
  },
  {
   "cell_type": "markdown",
   "metadata": {},
   "source": [
    "We will now create a 1-step look ahead forecast"
   ]
  },
  {
   "cell_type": "code",
   "execution_count": 99,
   "metadata": {},
   "outputs": [
    {
     "name": "stdout",
     "output_type": "stream",
     "text": [
      "Forecast R2:  2.8794754006885026 %\n",
      "Naive Forecast R2:  -98.67159048320518 %\n"
     ]
    }
   ],
   "source": [
    "lrdf = pd.DataFrame(lr)\n",
    "lrdf = lrdf.reset_index()\n",
    "lrdf.columns=[\"date\",\"lr\"]\n",
    "coef = res2.params[:-1].to_dict()\n",
    "lrdf[\"forecast\"] = lrdf[\"lr\"].shift(6)*coef[\"ar.L6\"] + lrdf[\"lr\"].shift(7)*coef[\"ar.L7\"] + lrdf[\"lr\"].shift(8)*coef[\"ar.L8\"] + lrdf[\"lr\"].shift(10)*coef[\"ar.L10\"] + coef[\"const\"]\n",
    "lrdf[\"naive forecast\"] = lrdf[\"lr\"].shift(1)\n",
    "lrdf = lrdf.dropna()\n",
    "print(\"Forecast R2: \",r2_score(lrdf.lr,lrdf.forecast)*100,\"%\")\n",
    "print(\"Naive Forecast R2: \",r2_score(lrdf.lr,lrdf[\"naive forecast\"])*100,\"%\")"
   ]
  },
  {
   "cell_type": "code",
   "execution_count": 100,
   "metadata": {},
   "outputs": [
    {
     "data": {
      "text/plain": [
       "[<matplotlib.lines.Line2D at 0x7f3d54582ed0>]"
      ]
     },
     "execution_count": 100,
     "metadata": {},
     "output_type": "execute_result"
    },
    {
     "data": {
      "image/png": "[encoded data removed]",
      "text/plain": [
       "<Figure size 432x288 with 1 Axes>"
      ]
     },
     "metadata": {
      "needs_background": "light"
     },
     "output_type": "display_data"
    }
   ],
   "source": [
    "plt.plot(lrdf.lr[-50:])\n",
    "plt.plot(lrdf.forecast[-50:])"
   ]
  },
  {
   "cell_type": "markdown",
   "metadata": {},
   "source": [
    "## ARMA Model"
   ]
  },
  {
   "cell_type": "code",
   "execution_count": 102,
   "metadata": {},
   "outputs": [
    {
     "name": "stderr",
     "output_type": "stream",
     "text": [
      "/home/fcelaya/quant/venv/lib/python3.7/site-packages/statsmodels/tsa/base/tsa_model.py:471: ValueWarning: A date index has been provided, but it has no associated frequency information and so will be ignored when e.g. forecasting.\n",
      "  self._init_dates(dates, freq)\n",
      "/home/fcelaya/quant/venv/lib/python3.7/site-packages/statsmodels/tsa/base/tsa_model.py:471: ValueWarning: A date index has been provided, but it has no associated frequency information and so will be ignored when e.g. forecasting.\n",
      "  self._init_dates(dates, freq)\n",
      "/home/fcelaya/quant/venv/lib/python3.7/site-packages/statsmodels/tsa/base/tsa_model.py:471: ValueWarning: A date index has been provided, but it has no associated frequency information and so will be ignored when e.g. forecasting.\n",
      "  self._init_dates(dates, freq)\n"
     ]
    },
    {
     "name": "stdout",
     "output_type": "stream",
     "text": [
      "                               SARIMAX Results                                \n",
      "==============================================================================\n",
      "Dep. Variable:              adj close   No. Observations:                 1258\n",
      "Model:                ARIMA(0, 0, 10)   Log Likelihood                3270.807\n",
      "Date:                Tue, 16 Aug 2022   AIC                          -6517.614\n",
      "Time:                        18:15:08   BIC                          -6455.966\n",
      "Sample:                             0   HQIC                         -6494.446\n",
      "                               - 1258                                         \n",
      "Covariance Type:                  opg                                         \n",
      "==============================================================================\n",
      "                 coef    std err          z      P>|z|      [0.025      0.975]\n",
      "------------------------------------------------------------------------------\n",
      "const          0.0007      0.001      1.381      0.167      -0.000       0.002\n",
      "ma.L1          0.0132      0.021      0.635      0.526      -0.028       0.054\n",
      "ma.L2          0.0164      0.020      0.806      0.420      -0.024       0.056\n",
      "ma.L3         -0.0003      0.021     -0.015      0.988      -0.042       0.042\n",
      "ma.L4         -0.0050      0.025     -0.201      0.840      -0.053       0.043\n",
      "ma.L5         -0.0038      0.023     -0.162      0.871      -0.050       0.042\n",
      "ma.L6         -0.0376      0.022     -1.678      0.093      -0.081       0.006\n",
      "ma.L7          0.1019      0.028      3.691      0.000       0.048       0.156\n",
      "ma.L8         -0.0410      0.022     -1.888      0.059      -0.083       0.002\n",
      "ma.L9          0.0248      0.026      0.942      0.346      -0.027       0.076\n",
      "ma.L10        -0.0928      0.024     -3.811      0.000      -0.141      -0.045\n",
      "sigma2         0.0003   4.99e-06     64.802      0.000       0.000       0.000\n",
      "===================================================================================\n",
      "Ljung-Box (L1) (Q):                   0.00   Jarque-Bera (JB):             12736.64\n",
      "Prob(Q):                              0.96   Prob(JB):                         0.00\n",
      "Heteroskedasticity (H):               0.48   Skew:                            -1.22\n",
      "Prob(H) (two-sided):                  0.00   Kurtosis:                        18.39\n",
      "===================================================================================\n",
      "\n",
      "Warnings:\n",
      "[1] Covariance matrix calculated using the outer product of gradients (complex-step).\n"
     ]
    }
   ],
   "source": [
    "mod = ARIMA(lr,order=(0,0,10))\n",
    "res = mod.fit()\n",
    "print(res.summary())"
   ]
  },
  {
   "cell_type": "code",
   "execution_count": null,
   "metadata": {},
   "outputs": [],
   "source": []
  },
  {
   "cell_type": "code",
   "execution_count": null,
   "metadata": {},
   "outputs": [],
   "source": []
  }
 ],
 "metadata": {
  "kernelspec": {
   "display_name": "Python 3.7.13 ('venv': venv)",
   "language": "python",
   "name": "python3"
  },
  "language_info": {
   "codemirror_mode": {
    "name": "ipython",
    "version": 3
   },
   "file_extension": ".py",
   "mimetype": "text/x-python",
   "name": "python",
   "nbconvert_exporter": "python",
   "pygments_lexer": "ipython3",
   "version": "3.7.13"
  },
  "orig_nbformat": 4,
  "vscode": {
   "interpreter": {
    "hash": "cc24fe91b9ab0d18ea06345234974b11346273ad6afbdadd1241ef1b29f2af51"
   }
  }
 },
 "nbformat": 4,
 "nbformat_minor": 2
}
